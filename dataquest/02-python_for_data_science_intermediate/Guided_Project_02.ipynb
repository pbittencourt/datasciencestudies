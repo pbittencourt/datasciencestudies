{
 "cells": [
  {
   "cell_type": "markdown",
   "metadata": {
    "collapsed": true
   },
   "source": [
    "# Explorando publicações do \"Hacker News\"\n",
    "\n",
    "Neste projeto, compararemos dois tipos diferentes de postagens do **Hacker News**, um [site popular](https://news.ycombinator.com) em que histórias relacionadas à tecnologia são votadas e comentadas. Os dois tipos de postagens que exploraremos começam com *Ask HN* ou *Show HN*.\n",
    "\n",
    "Os usuários enviam postagens do *Ask HN* para fazer à comunidade Hacker News uma pergunta específica, como \"Qual é o melhor curso on-line que você já fez?\". Da mesma forma, os usuários enviam postagens do *Show HN* para mostrar à comunidade do Hacker News um projeto, produto ou apenas algo geralmente interessante.\n",
    "\n",
    "Vamos comparar especificamente esses dois tipos de postagens para determinar o seguinte:\n",
    "\n",
    "1. *Ask HN* ou *Show HN* recebe mais comentários em média?\n",
    "+ As postagens criadas em um determinado momento recebem mais comentários, em média?\n",
    "\n",
    "É importante destacar que o conjunto de dados com o qual trabalhamos foi reduzido de quase 300.000 linhas para aproximadamente 20.000, removendo todos os envios que não receberam comentários e, em seguida, amostrando aleatoriamente os envios restantes.\n",
    "\n",
    "## Introdução\n",
    "\n",
    "Primeiro leremos os dados e separaremos cabeçalho de conteúdo. O primeiro será armazenado na variável `headers` enquanto que o segundo será armazenado na variável `hn`. Aproveitaremos para explorar o conteúdo de nosso conjunto de dados, exibindo o cabeçalho e as primeiras 4 linhas de conteúdo:"
   ]
  },
  {
   "cell_type": "code",
   "execution_count": 6,
   "metadata": {},
   "outputs": [
    {
     "name": "stdout",
     "output_type": "stream",
     "text": [
      "['id', 'title', 'url', 'num_points', 'num_comments', 'author', 'created_at']\n",
      "['12224879', 'Interactive Dynamic Video', 'http://www.interactivedynamicvideo.com/', '386', '52', 'ne0phyte', '8/4/2016 11:52']\n",
      "['10975351', 'How to Use Open Source and Shut the Fuck Up at the Same Time', 'http://hueniverse.com/2016/01/26/how-to-use-open-source-and-shut-the-fuck-up-at-the-same-time/', '39', '10', 'josep2', '1/26/2016 19:30']\n",
      "['11964716', \"Florida DJs May Face Felony for April Fools' Water Joke\", 'http://www.thewire.com/entertainment/2013/04/florida-djs-april-fools-water-joke/63798/', '2', '1', 'vezycash', '6/23/2016 22:20']\n",
      "['11919867', 'Technology ventures: From Idea to Enterprise', 'https://www.amazon.com/Technology-Ventures-Enterprise-Thomas-Byers/dp/0073523429', '3', '1', 'hswarna', '6/17/2016 0:01']\n"
     ]
    }
   ],
   "source": [
    "from csv import reader  # módulo para leitura de arquivos *.csv\n",
    "\n",
    "# abre o arquivo e gera uma lista a partir de seu conteúdo\n",
    "opened_file = open('hacker_news.csv')\n",
    "hn = list(reader(opened_file))\n",
    "\n",
    "# exibe cabeçalho e as primeiras 4 linhas de conteúdo\n",
    "for row in hn[:5]:\n",
    "    print(row)\n",
    "\n",
    "# separa o cabeçalho do resto do conteúdo\n",
    "headers = hn[0]\n",
    "hn = hn[1:]"
   ]
  },
  {
   "cell_type": "markdown",
   "metadata": {},
   "source": [
    "Podemos ver que o conjunto de dados contém, para cada postagem, o título, o número de comentários e a data de criação. Vamos começar explorando o número de comentários para cada tipo de postagem.\n",
    "\n",
    "## Extraindo postagens dos tipos \"Ask HN\" e \"Show HN\"\n",
    "\n",
    "Primeiro, identificaremos as postagens que começam com *Ask HN* ou *Show HN* e separaremos os dados desses dois tipos de postagens em listas diferentes. A separação dos dados facilita a análise nas etapas a seguir."
   ]
  },
  {
   "cell_type": "code",
   "execution_count": 7,
   "metadata": {},
   "outputs": [
    {
     "name": "stdout",
     "output_type": "stream",
     "text": [
      "1744 posts do tipo Ask HN.\n",
      "1162 posts do tipo Show HN.\n",
      "17194 posts de outras categorias.\n"
     ]
    }
   ],
   "source": [
    "ask_posts = []\n",
    "show_posts =[]\n",
    "other_posts = []\n",
    "\n",
    "for post in hn:\n",
    "    title = post[1]\n",
    "    if title.lower().startswith(\"ask hn\"):\n",
    "        ask_posts.append(post)\n",
    "    elif title.lower().startswith(\"show hn\"):\n",
    "        show_posts.append(post)\n",
    "    else:\n",
    "        other_posts.append(post)\n",
    "        \n",
    "print(len(ask_posts), 'posts do tipo Ask HN.')\n",
    "print(len(show_posts), 'posts do tipo Show HN.')\n",
    "print(len(other_posts), 'posts de outras categorias.')"
   ]
  },
  {
   "cell_type": "markdown",
   "metadata": {},
   "source": [
    "## Calculando o número médio de comentários\n",
    "\n",
    "Agora que separamos as postagens solicitadas e as armazenamos em listas diferentes, calcularemos o número médio de comentários que cada tipo de postagem recebe."
   ]
  },
  {
   "cell_type": "code",
   "execution_count": 8,
   "metadata": {},
   "outputs": [
    {
     "name": "stdout",
     "output_type": "stream",
     "text": [
      "10.32 comentários, em média, nas postagens Ask HN.\n",
      "14.04 comentários, em média, nas postagens Show HN \n"
     ]
    }
   ],
   "source": [
    "# cálculo do numero médio de comentários nas postagens 'Ask HN'\n",
    "total_ask_comments = 0\n",
    "\n",
    "for post in ask_posts:\n",
    "    total_ask_comments += int(post[4])\n",
    "    \n",
    "avg_ask_comments = total_ask_comments / len(ask_posts)\n",
    "\n",
    "# cálculo do numero médio de comentários nas postagens 'Show HN'\n",
    "total_show_comments = 0\n",
    "\n",
    "for post in show_posts:\n",
    "    total_show_comments += int(post[4])\n",
    "    \n",
    "avg_show_comments = total_show_comments / len(show_posts)\n",
    "\n",
    "print('{:.2f} comentários, em média, nas postagens Ask HN.'.format(avg_show_comments))\n",
    "print('{:.2f} comentários, em média, nas postagens Show HN '.format(avg_ask_comments))"
   ]
  },
  {
   "cell_type": "markdown",
   "metadata": {},
   "source": [
    "Em média, as postagens *Ask HN* em nossa amostra recebem aproximadamente 14 comentários, enquanto as postagens *Show HN* recebem aproximadamente 10 comentários. Como as postagens de pergunta têm mais probabilidade de receber comentários, focaremos nossa análise restante apenas nessas postagens.\n",
    "\n",
    "## Localizando a quantidade de mensagens e comentários em posts, por hora de publicação\n",
    "\n",
    "Em seguida, determinaremos se podemos maximizar a quantidade de comentários que uma postagem de solicitação recebe criando-a em um determinado momento. Primeiro, vamos encontrar a quantidade de postagens criadas durante cada hora do dia, juntamente com o número de comentários que essas postagens receberam. Em seguida, calcularemos a quantidade média de comentários que as postagens criadas a cada hora do dia recebem."
   ]
  },
  {
   "cell_type": "code",
   "execution_count": 13,
   "metadata": {},
   "outputs": [
    {
     "name": "stdout",
     "output_type": "stream",
     "text": [
      "{'00': 447, '01': 683, '11': 641, '14': 1416, '13': 1253, '05': 464, '23': 543, '08': 492, '07': 267, '09': 251, '21': 1745, '03': 421, '19': 1188, '15': 4477, '06': 397, '02': 1381, '10': 793, '22': 479, '20': 1722, '17': 1146, '12': 687, '16': 1814, '18': 1439, '04': 337}\n",
      "{'00': 55, '01': 60, '11': 58, '14': 107, '13': 85, '05': 46, '23': 68, '08': 48, '07': 34, '09': 45, '21': 109, '03': 54, '19': 110, '15': 116, '06': 44, '02': 58, '10': 59, '22': 71, '20': 80, '17': 100, '12': 73, '16': 108, '18': 109, '04': 47}\n"
     ]
    }
   ],
   "source": [
    "# importa módulo para tratamento de datas e horários\n",
    "import datetime as dt\n",
    "\n",
    "# armazena, em result_list, uma lista contendo,\n",
    "# na ordem, os elementos ['created_at', 'num_comments'],\n",
    "# para cada linha do dataset\n",
    "result_list = []\n",
    "for post in ask_posts:\n",
    "    result_list.append(\n",
    "        [post[6], int(post[4])]\n",
    "    )\n",
    "\n",
    "comments_by_hour = {}  # núm. de comentários a cada hora\n",
    "counts_by_hour = {}  # núm de posts a cada hora\n",
    "date_format = \"%m/%d/%Y %H:%M\"  # formato de data no qual os dados foram gravados\n",
    "\n",
    "for row in result_list:\n",
    "    date = row[0]\n",
    "    comment = row[1]\n",
    "    \n",
    "    # recebe o dado de acordo com o template em 'date_format'\n",
    "    # e retorna somente a hora do dia, armazenando-a em time\n",
    "    time = dt.datetime.strptime(date, date_format).strftime(\"%H\")\n",
    "    \n",
    "    # cria as tabelas de frequências para comentários e \n",
    "    # para publicações a cada hora do dia\n",
    "    if time not in counts_by_hour:\n",
    "        comments_by_hour[time] = comment\n",
    "        counts_by_hour[time] = 1        \n",
    "    else:\n",
    "        comments_by_hour[time] += comment\n",
    "        counts_by_hour[time] += 1\n",
    "\n",
    "print(comments_by_hour)\n",
    "print(counts_by_hour)"
   ]
  },
  {
   "cell_type": "markdown",
   "metadata": {},
   "source": [
    "Numa análise superficial, percebe-se que o maior número de comentáriose, em média, ocorre entre as 15:00 e as 16:00 (4.477 registros) e o maior número de publicações costuma se dar também neste horário.\n",
    "\n",
    "## Número médio de comentários nas publicações 'Ask HN', por hora do dia\n",
    "\n",
    "Seguiremos com nossa análise para determinar o número médio de comentários por post, para cada hora do dia."
   ]
  },
  {
   "cell_type": "code",
   "execution_count": 15,
   "metadata": {},
   "outputs": [
    {
     "data": {
      "text/plain": [
       "[['00', 8.127272727272727],\n",
       " ['01', 11.383333333333333],\n",
       " ['11', 11.051724137931034],\n",
       " ['14', 13.233644859813085],\n",
       " ['13', 14.741176470588234],\n",
       " ['05', 10.08695652173913],\n",
       " ['23', 7.985294117647059],\n",
       " ['08', 10.25],\n",
       " ['07', 7.852941176470588],\n",
       " ['09', 5.5777777777777775],\n",
       " ['21', 16.009174311926607],\n",
       " ['03', 7.796296296296297],\n",
       " ['19', 10.8],\n",
       " ['15', 38.5948275862069],\n",
       " ['06', 9.022727272727273],\n",
       " ['02', 23.810344827586206],\n",
       " ['10', 13.440677966101696],\n",
       " ['22', 6.746478873239437],\n",
       " ['20', 21.525],\n",
       " ['17', 11.46],\n",
       " ['12', 9.41095890410959],\n",
       " ['16', 16.796296296296298],\n",
       " ['18', 13.20183486238532],\n",
       " ['04', 7.170212765957447]]"
      ]
     },
     "execution_count": 15,
     "metadata": {},
     "output_type": "execute_result"
    }
   ],
   "source": [
    "avg_by_hour = []\n",
    "\n",
    "for hour in comments_by_hour:\n",
    "    average = comments_by_hour[hour] / counts_by_hour[hour]\n",
    "    avg_by_hour.append([hour, average])\n",
    "\n",
    "avg_by_hour"
   ]
  },
  {
   "cell_type": "markdown",
   "metadata": {},
   "source": [
    "Embora agora tenhamos os resultados que precisamos, esse formato dificulta a identificação das horas com os valores mais altos. Vamos terminar criando uma lista de listas e imprimindo os cinco valores mais altos em um formato mais fácil de ler."
   ]
  },
  {
   "cell_type": "code",
   "execution_count": 17,
   "metadata": {},
   "outputs": [
    {
     "data": {
      "text/plain": [
       "[[38.5948275862069, '15'],\n",
       " [23.810344827586206, '02'],\n",
       " [21.525, '20'],\n",
       " [16.796296296296298, '16'],\n",
       " [16.009174311926607, '21'],\n",
       " [14.741176470588234, '13'],\n",
       " [13.440677966101696, '10'],\n",
       " [13.233644859813085, '14'],\n",
       " [13.20183486238532, '18'],\n",
       " [11.46, '17'],\n",
       " [11.383333333333333, '01'],\n",
       " [11.051724137931034, '11'],\n",
       " [10.8, '19'],\n",
       " [10.25, '08'],\n",
       " [10.08695652173913, '05'],\n",
       " [9.41095890410959, '12'],\n",
       " [9.022727272727273, '06'],\n",
       " [8.127272727272727, '00'],\n",
       " [7.985294117647059, '23'],\n",
       " [7.852941176470588, '07'],\n",
       " [7.796296296296297, '03'],\n",
       " [7.170212765957447, '04'],\n",
       " [6.746478873239437, '22'],\n",
       " [5.5777777777777775, '09']]"
      ]
     },
     "execution_count": 17,
     "metadata": {},
     "output_type": "execute_result"
    }
   ],
   "source": [
    "swap_avg_by_hour = []\n",
    "\n",
    "for row in avg_by_hour:\n",
    "    # acrescentamos à lista swap_avg_by_hour os elementos\n",
    "    # de avg_by_our na ordem [média, horário]\n",
    "    swap_avg_by_hour.append([row[1], row[0]])\n",
    "    \n",
    "# agora podemos armazenar, em outra lista, os dados em ordem decrescente\n",
    "sorted_swap = sorted(swap_avg_by_hour, reverse=True)\n",
    "\n",
    "sorted_swap"
   ]
  },
  {
   "cell_type": "markdown",
   "metadata": {},
   "source": [
    "De posse desses dados, podemos exibir os cinco horários com a maior média de comentários por publicação do tipo *Ask HN*:"
   ]
  },
  {
   "cell_type": "code",
   "execution_count": 18,
   "metadata": {},
   "outputs": [
    {
     "name": "stdout",
     "output_type": "stream",
     "text": [
      "15:00: 38.59 comentários, em média, por post.\n",
      "02:00: 23.81 comentários, em média, por post.\n",
      "20:00: 21.52 comentários, em média, por post.\n",
      "16:00: 16.80 comentários, em média, por post.\n",
      "21:00: 16.01 comentários, em média, por post.\n"
     ]
    }
   ],
   "source": [
    "for avg, hour in sorted_swap[:5]:\n",
    "    print(\n",
    "        '{}: {:.2f} comentários, em média, por post.'.format(\n",
    "            dt.datetime.strptime(hour, \"%H\").strftime(\"%H:%M\"), avg\n",
    "        )\n",
    "    )"
   ]
  },
  {
   "cell_type": "markdown",
   "metadata": {},
   "source": [
    "Nota-se que os posts *Ask HN* recebem mais comentários entre as 15:00 e as 16:00, com uma média de 38,59 comentários a cada publicação. Se levarmos em consideração a proximidade entre os horários desses cinco primeiros registros, podemos dizer que, entre as 15:00 e as 16:00 e entre as 20:00 e 22:00, ocorrem os maiores picos de interação entre os leitores e os autores dos textos na comunidade.\n",
    "\n",
    "## Conclusão\n",
    "\n",
    "Neste projeto, analisamos as postagens de perguntas (*Ask HN*) e de demonstração (*Show HN*) do site **Hacker News** para determinar qual tipo de postagem e horário do dia recebem mais comentários em média. Com base em nossa análise, para maximizar a quantidade de comentários que uma postagem recebe, recomendamos que ela seja categorizada como *postagem de solicitação* e seja publicada entre 15:00 e 16:00.\n",
    "\n",
    "No entanto, deve-se observar que o conjunto de dados que analisamos excluiu postagens sem nenhum comentário. Dado isso, é mais preciso dizer que, das postagens que receberam comentários, as postagens recebidas receberam mais comentários em média e as postagens criadas entre 15:00 e 16:00 receberam o maioria dos comentários em média."
   ]
  }
 ],
 "metadata": {
  "kernelspec": {
   "display_name": "Python 3",
   "language": "python",
   "name": "python3"
  },
  "language_info": {
   "codemirror_mode": {
    "name": "ipython",
    "version": 3
   },
   "file_extension": ".py",
   "mimetype": "text/x-python",
   "name": "python",
   "nbconvert_exporter": "python",
   "pygments_lexer": "ipython3",
   "version": "3.7.4"
  }
 },
 "nbformat": 4,
 "nbformat_minor": 2
}
