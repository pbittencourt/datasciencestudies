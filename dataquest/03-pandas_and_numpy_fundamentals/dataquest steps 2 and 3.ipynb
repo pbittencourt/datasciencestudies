{
 "cells": [
  {
   "cell_type": "markdown",
   "metadata": {},
   "source": [
    "# Introdução à Programação Orientada a Objetos (OOP), NumPy e pandas\n",
    "\n",
    "Algumas anotações de aula, escritas por **Pedro P. Bittencourt**. Curso de *Formação Data Science em Python*, fornecido pela [Dataquest](https://app.dataquest.io), iniciado em dezembro de 2019. Os objetivos deste caderno são meramente acadêmicos e pessoais, não devendo ser entendidos como uma referência.\n",
    "\n",
    "## Overview\n",
    "\n",
    "1. Programação Orientada a Objetos\n",
    "+ NumPy\n",
    "+ pandas (em construção)\n",
    "\n",
    "## 1. Programação Orientada a Objetos\n",
    "\n",
    "Até o momento, estivemos trabalhando com *programação procedural*, ou seja, blocos de comandos executados em sequência, às vezes encapsulados também em funções.\n",
    "\n",
    "No python, tudo é um objeto; variáveis, por exemplo, são objetos. Quando estudamos os tipos das variáveis, estávamos, na verdade, nos referindo às classes dessas variáveis. De forma resumida, classe é um tipo de objeto.\n",
    "\n",
    "* Objeto é uma entidade que armazena dados.\n",
    "+ Uma classe de objeto define propriedades específicas que objetos dessa classe podem ter.\n",
    "\n",
    "Definimos uma classe de modo similar à definição de uma função."
   ]
  },
  {
   "cell_type": "code",
   "execution_count": 1,
   "metadata": {},
   "outputs": [],
   "source": [
    "def minha_funcao():\n",
    "    # faz alguma coisa\n",
    "    return\n",
    "    \n",
    "class MinhaClasse():\n",
    "    # detalhes da classe\n",
    "    pass"
   ]
  },
  {
   "cell_type": "markdown",
   "metadata": {},
   "source": [
    "Por uma questão de convenção, funções são nomeadas utilizando [*Snake Case*](https://en.wikipedia.org/wiki/Snake_case), enquanto que classes são nomeadas utilizando [*Pascal Case*](https://en.wikipedia.org/wiki/Camel_case).\n",
    "\n",
    "No bloco anterior, adicionamos `return` à função e `pass` à classe para não gerar erros na definição, uma vez que o python não nos deixa definir funções e classes \"em branco\".\n",
    "\n",
    "Na OOP, utilizamos **instância** para descrever cada objeto. Por exemplo, duas canetas da marca *CIB*, uma azul e outra vermelha, são duas **instâncias** da **classe** *caneta CIB*. Enquanto que cada uma delas seja única, elas são claramente o mesmo tipo de caneta (caneta CIB).\n",
    "\n",
    "A mesma coisa pode ser dita em relação às strings em Python. Podemos criar duas strings diferentes, cada uma armazenando diferentes valores, mas elas funcionam do mesmo jeito."
   ]
  },
  {
   "cell_type": "code",
   "execution_count": 2,
   "metadata": {},
   "outputs": [],
   "source": [
    "uma_string = \"eae galera\"\n",
    "outra_string = \"tudo blz\""
   ]
  },
  {
   "cell_type": "markdown",
   "metadata": {},
   "source": [
    "Os dois objetos acima são instâncias da classe `str`. Enquanto cada objeto seja único, eles são do mesmo tipo.\n",
    "\n",
    "Após criada a classe, o processo de criar um novo objeto daquela classe recebe o nome de **instanciação**:"
   ]
  },
  {
   "cell_type": "code",
   "execution_count": 3,
   "metadata": {},
   "outputs": [],
   "source": [
    "instancia_da_minha_classe = MinhaClasse()"
   ]
  },
  {
   "cell_type": "markdown",
   "metadata": {},
   "source": [
    "A linha acima, na verdade, fez duas coisas:\n",
    "\n",
    "* instanciou um objeto da classe `MinhaClasse`;\n",
    "+ atribuiu essa instância à variável `instancia_da_minha_classe`.\n",
    "\n",
    "No Python, quando utilizamos a sintaxe `int()` para converter uma string num número inteiro, estamos na verdade instanciando um objeto da classe `int` e associando essa instância à uma determinada variável."
   ]
  },
  {
   "cell_type": "code",
   "execution_count": 4,
   "metadata": {},
   "outputs": [],
   "source": [
    "um_numero = int(\"1\")\n",
    "#   (2)       (1)\n",
    "# (1) instancia um objeto da classe int\n",
    "# (2) associa essa instância à variável um_numero"
   ]
  },
  {
   "cell_type": "markdown",
   "metadata": {},
   "source": [
    "Classes possuem métodos, funções que as permitem executarem coisas específicas.\n",
    "\n",
    "Voltando à metáfora das canetas, um objeto da classe *caneta CIB* pode fazer coisas como \"escrever\", \"tampar\", \"destampar\", \"sumir embaixo do sofá\", \"desintegrar-se rumo à quinta dimensão\" e assim pode diante. De forma similar, strings em Python possuem métodos que podem substituir substrings, converter a caixa, quebrar numa lista e assim por diante. \n",
    "\n",
    "Podemos então pensar em métodos como funções especiais que pertencem a uma classe particular. Por isso, por exemplo, utilizamos a sintaxe `str.replace()` -- o método `replace` pertence à classe `str`. Não podemos utilizar um método de uma classe com objetos de outra classe: não é possível, por exemplo, utilizar `minha_lista.replace(\"h\", \"H\")` ou `minha_string.append(\"?\")`.\n",
    "\n",
    "A sintaxe para criar métodos é idêntica à criação de funções:"
   ]
  },
  {
   "cell_type": "code",
   "execution_count": 5,
   "metadata": {},
   "outputs": [],
   "source": [
    "class NovaLista():\n",
    "    def primeiro_metodo():\n",
    "        print('Eae glr!')\n",
    "        \n",
    "instancia = NovaLista()"
   ]
  },
  {
   "cell_type": "markdown",
   "metadata": {},
   "source": [
    "Entretanto, se tentarmos utilizar o método `primeiro_metodo` com a instância acima, obteremos um erro:"
   ]
  },
  {
   "cell_type": "markdown",
   "metadata": {},
   "source": [
    "`instancia.primeiro_metodo()`\n",
    "\n",
    "`---------------------------------------------------------------------------`\n",
    "`TypeError                                 Traceback (most recent call last)`\n",
    "`<ipython-input-6-d0d79ee75499> in <module>`\n",
    "`----> 1 instancia.primeiro_metodo()`\n",
    "`TypeError: primeiro_metodo() takes 0 positional arguments but 1 was given`"
   ]
  },
  {
   "cell_type": "markdown",
   "metadata": {},
   "source": [
    "Esse erro é confuso, porque diz que `primeiro_metodo()` recebeu um argumento, apesar de não possuí-los. Parece que existe aqui um \"argumento fantasma\" sendo passado à função! Para o Python, quando chamamos o método de uma instância, a instância em si é passada como argumento (veja a imagem a seguir, via [dataquest](https://app.dataquest.io/m/352/object-oriented-python/6/understanding-self)):"
   ]
  },
  {
   "cell_type": "markdown",
   "metadata": {},
   "source": [
    "<img src=\"self_arg_v2_2.svg\" />\n",
    "\n",
    "Dá pra provar que esse argumento extra é a instância em si, observe:"
   ]
  },
  {
   "cell_type": "code",
   "execution_count": 7,
   "metadata": {
    "scrolled": true
   },
   "outputs": [
    {
     "name": "stdout",
     "output_type": "stream",
     "text": [
      "<__main__.MeuFantasma object at 0x0000000005516708>\n"
     ]
    },
    {
     "data": {
      "text/plain": [
       "<bound method MeuFantasma.me_imprima of <__main__.MeuFantasma object at 0x0000000005516708>>"
      ]
     },
     "execution_count": 7,
     "metadata": {},
     "output_type": "execute_result"
    }
   ],
   "source": [
    "class MeuFantasma():\n",
    "    def me_imprima(self):\n",
    "        print(self)\n",
    "        \n",
    "mf = MeuFantasma()\n",
    "print(mf)\n",
    "mf.me_imprima"
   ]
  },
  {
   "cell_type": "markdown",
   "metadata": {},
   "source": [
    "Repare que a mesma saída foi gerada para ambos os comandos, tanto imprimindo a variável `mf` quando pedindo para o método `me_imprima`, provando que a instância em si é o tal do \"parâmetro fantasma\".\n",
    "\n",
    "Em teoria, o nome deste argumento pode ser qualquer que desejarmos. Por convenção, utiliza-se o nome `self`, e é importante seguir essas regras para que a definição da função não seja demasiado confusa. Então vejamos o que a classe abaixo é capaz de fazer:"
   ]
  },
  {
   "cell_type": "code",
   "execution_count": 8,
   "metadata": {},
   "outputs": [
    {
     "name": "stdout",
     "output_type": "stream",
     "text": [
      "Estou aprendendo a utilizar classes e métodos! Eba!!\n"
     ]
    }
   ],
   "source": [
    "class NovaClasse():\n",
    "    def primeiro_metodo(self):\n",
    "        print('Estou aprendendo a utilizar classes e métodos! Eba!!')\n",
    "        \n",
    "variavel = NovaClasse()\n",
    "variavel.primeiro_metodo()"
   ]
  },
  {
   "cell_type": "markdown",
   "metadata": {},
   "source": [
    "Se o método receber parâmetros além de `self` eles devem ser declarados logo em sequência:"
   ]
  },
  {
   "cell_type": "code",
   "execution_count": 9,
   "metadata": {},
   "outputs": [
    {
     "name": "stdout",
     "output_type": "stream",
     "text": [
      "[1, 1, 2, 3, 5]\n"
     ]
    }
   ],
   "source": [
    "class NovaLista():\n",
    "    def retorna(self, lista):\n",
    "        print(lista)\n",
    "        \n",
    "nova_lista = NovaLista()\n",
    "nova_lista.retorna([1, 1, 2, 3, 5])"
   ]
  },
  {
   "cell_type": "markdown",
   "metadata": {},
   "source": [
    "O poder dos objetos reside em sua habilidade em armazenar dados, utilizando **atributos** para isto. Vejamos como fazê-lo, voltando à analogia da *caneta CIB*. Todo objeto da classe caneta CIB possui alguns atributos, tais como \"cor\", \"carga\", \"espessura da ponta\", \"chances de se perder na gaveta de talheres\" e assim por diante. De forma similar, strings Python também possuem um atributo: o valor armazenado na string.\n",
    "\n",
    "Podemos então pensar em atributos como variáveis especiais que pertencem à uma classe particular. Atributos nos permitem armazenar dados específicos para cada instância de nossa classe. Ao instanciar um objeto, muitas vezes especificamos o dado que será armazenado naquele objeto. Mais uma vez, o exemplo da classe `int`:"
   ]
  },
  {
   "cell_type": "code",
   "execution_count": 10,
   "metadata": {},
   "outputs": [],
   "source": [
    "numero_legal = int(\"13\")"
   ]
  },
  {
   "cell_type": "markdown",
   "metadata": {},
   "source": [
    "Ao utilizar `int`, passamos `\"13\"` como argumento, que foi convertido e armazenado no objeto. Esse processo, chamado de **init method**, define o que será feito com argumentos passados durante uma instanciação. O *init method*, também chamado de **constructor**, é um método especial executado quando uma instância é criada, de forma que podemos fazer várias coisas ao instanciar um objeto. Basta utilizar `__init__()`:"
   ]
  },
  {
   "cell_type": "code",
   "execution_count": 11,
   "metadata": {},
   "outputs": [
    {
     "name": "stdout",
     "output_type": "stream",
     "text": [
      "Eae gentee!\n"
     ]
    }
   ],
   "source": [
    "class AloMamae():\n",
    "    def __init__(self, string):\n",
    "        print(string)\n",
    "        \n",
    "oie = AloMamae(\"Eae gentee!\")"
   ]
  },
  {
   "cell_type": "markdown",
   "metadata": {},
   "source": [
    "Repare que, ao instanciar o objeto `oie` da classe `AloMamae()`, o método `__init()__` já gerou uma saída da string armazenada dentro do objeto. Ou seja, o método `__init__()` pode ser utilizado para processar dados assim que eles são passados ao instanciar objetos, armazenando esses dados como atributos:"
   ]
  },
  {
   "cell_type": "code",
   "execution_count": 12,
   "metadata": {},
   "outputs": [],
   "source": [
    "class NovaString():\n",
    "    def __init__(self, string):\n",
    "        self.meu_atributo = string\n",
    "        \n",
    "ns = NovaString(\"Ces tao beleza?\")"
   ]
  },
  {
   "cell_type": "markdown",
   "metadata": {},
   "source": [
    "A instanciação não gerou nenhuma saída porque não pedimos para fazê-lo. Ao invés disso, armazenamos o dado no atributo `meu_atributo` que pode ser posteriormente acessado:"
   ]
  },
  {
   "cell_type": "code",
   "execution_count": 13,
   "metadata": {},
   "outputs": [
    {
     "name": "stdout",
     "output_type": "stream",
     "text": [
      "Ces tao beleza?\n"
     ]
    }
   ],
   "source": [
    "print(ns.meu_atributo)"
   ]
  },
  {
   "cell_type": "markdown",
   "metadata": {},
   "source": [
    "A tabela a seguir resume o que vimos até o momento, em relação a métodos e atributos (via [dataquest](https://app.dataquest.io/m/352/object-oriented-python/8/attributes-and-the-init-method))\n",
    "\n",
    "<img src=\"methods_attributes.png\" />"
   ]
  },
  {
   "cell_type": "markdown",
   "metadata": {},
   "source": [
    "Vamos utilizar o que foi aprendido para definir uma nova classe de lista, \"lista melhorada\", inserindo um atributo `length` que, essencialmente, faz o mesmo que a função `len()`, porém dentro da própria classe!"
   ]
  },
  {
   "cell_type": "code",
   "execution_count": 14,
   "metadata": {},
   "outputs": [
    {
     "name": "stdout",
     "output_type": "stream",
     "text": [
      "5\n",
      "6\n"
     ]
    }
   ],
   "source": [
    "class NewList():\n",
    "    \"\"\"\n",
    "    A Python list with some extras!\n",
    "    \"\"\"\n",
    "    def __init__(self, initial_state):\n",
    "        self.data = initial_state # data is given in the instantiation\n",
    "        self.calc_length()        # we calculate the length using this method\n",
    "    \n",
    "    def calc_length(self):\n",
    "        length = 0\n",
    "        for item in self.data:\n",
    "            length += 1\n",
    "        self.length = length # after the calculation, we store the value inside 'length' attribute\n",
    "    \n",
    "    def append(self, new_item):\n",
    "        \"\"\"\n",
    "        Append `new_item` to the NewList\n",
    "        \"\"\"\n",
    "        self.data = self.data + [new_item]\n",
    "        self.calc_length()\n",
    "        \n",
    "fibonacci = NewList([1, 1, 2, 3, 5])\n",
    "print(fibonacci.length)\n",
    "fibonacci.append(8)\n",
    "print(fibonacci.length)"
   ]
  },
  {
   "cell_type": "markdown",
   "metadata": {},
   "source": [
    "## 2. NumPy\n",
    "\n",
    "Comecemos com a importação do módulo. Por convenção, utilizamos o alias `np`"
   ]
  },
  {
   "cell_type": "code",
   "execution_count": 15,
   "metadata": {},
   "outputs": [],
   "source": [
    "import numpy as np"
   ]
  },
  {
   "cell_type": "markdown",
   "metadata": {},
   "source": [
    "O elemento central do módulo `numpy` é o [construtor](https://docs.scipy.org/doc/numpy-1.13.0/reference/generated/numpy.array.html) `numpy.array()`. Ele é um **ndarray**, isto é, um *vetor n-dimensional*, podendo se comportar como uma lista (1D), uma matriz (2D) ou um conjunto de matrizes (3D+). É possível então gerar um ndarray unidimensional a partir de uma lista simples:"
   ]
  },
  {
   "cell_type": "code",
   "execution_count": 16,
   "metadata": {},
   "outputs": [],
   "source": [
    "fibonacci_ten = np.array([1, 1, 2, 3, 5, 8, 13, 21, 34, 55])"
   ]
  },
  {
   "cell_type": "markdown",
   "metadata": {},
   "source": [
    "Importante notar que, na definição do ndarray `fibonacci_ten` utilizamos `np.array()` ao invés de `numpy.array()` por conta do alias na importação do módulo `numpy`. Vamos exibir a classe desta variável recém-criada:"
   ]
  },
  {
   "cell_type": "code",
   "execution_count": 17,
   "metadata": {},
   "outputs": [
    {
     "name": "stdout",
     "output_type": "stream",
     "text": [
      "<class 'numpy.ndarray'>\n"
     ]
    }
   ],
   "source": [
    "print(type(fibonacci_ten))"
   ]
  },
  {
   "cell_type": "markdown",
   "metadata": {},
   "source": [
    "Além de otimizar processos através da vetorização de listas, ndarrays também são muito mais convenientes para trabalhar com dados bidimensionais que, a partir de agora, chamaremos de *datasets*. Por exemplo, criemos uma matriz `two_dimensional`:"
   ]
  },
  {
   "cell_type": "code",
   "execution_count": 18,
   "metadata": {},
   "outputs": [
    {
     "name": "stdout",
     "output_type": "stream",
     "text": [
      "Matriz:\n",
      " [[0 1 2]\n",
      " [3 4 5]\n",
      " [6 7 8]]\n"
     ]
    }
   ],
   "source": [
    "two_dimensional = np.array(\n",
    "    [\n",
    "        [0, 1, 2],\n",
    "        [3, 4, 5],\n",
    "        [6, 7, 8]\n",
    "    ]\n",
    ")\n",
    "print('Matriz:\\n', two_dimensional)"
   ]
  },
  {
   "cell_type": "markdown",
   "metadata": {},
   "source": [
    "A seleção de elementos é parecida com a que estamos habituados a utilizar, no trabalho com listas de listas. Selecionemos a primeira linha:"
   ]
  },
  {
   "cell_type": "code",
   "execution_count": 19,
   "metadata": {},
   "outputs": [
    {
     "name": "stdout",
     "output_type": "stream",
     "text": [
      "[0 1 2]\n"
     ]
    }
   ],
   "source": [
    "print(two_dimensional[0])"
   ]
  },
  {
   "cell_type": "markdown",
   "metadata": {},
   "source": [
    "Selecionar um intervalo de linhas também não muda; podemos ver a seleção das duas primeiras linhas:"
   ]
  },
  {
   "cell_type": "code",
   "execution_count": 20,
   "metadata": {},
   "outputs": [
    {
     "name": "stdout",
     "output_type": "stream",
     "text": [
      "[[0 1 2]\n",
      " [3 4 5]]\n"
     ]
    }
   ],
   "source": [
    "print(two_dimensional[:2])"
   ]
  },
  {
   "cell_type": "markdown",
   "metadata": {},
   "source": [
    "A sintaxe completa, portanto, é `ndarray[row_index,column_index]` para selecionar uma determinada célula desta matriz. Reparar que isto é um pouco diferente da seleção de células em uma lista de listas, na qual faríamos `list_of_lists[row_index][column_index]`. Se quisermos selecionar todas as colunas de um certo conjunto de linhas, podemos utilizar `ndarray[row_index]`."
   ]
  },
  {
   "cell_type": "code",
   "execution_count": 21,
   "metadata": {},
   "outputs": [
    {
     "name": "stdout",
     "output_type": "stream",
     "text": [
      "2\n",
      "7\n",
      "[6 7 8]\n"
     ]
    }
   ],
   "source": [
    "cell_1_3 = two_dimensional[0,2]\n",
    "cell_3_2 = two_dimensional[2,1]\n",
    "last_row = two_dimensional[-1]\n",
    "\n",
    "print(cell_1_3)\n",
    "print(cell_3_2)\n",
    "print(last_row)"
   ]
  },
  {
   "cell_type": "markdown",
   "metadata": {},
   "source": [
    "Porém, essa não é a maior nem mais importante diferença. Se quiséssemos selecionar apenas uma **coluna** da lista de listas, precisaríamos recorrer a laços:"
   ]
  },
  {
   "cell_type": "code",
   "execution_count": 22,
   "metadata": {},
   "outputs": [
    {
     "name": "stdout",
     "output_type": "stream",
     "text": [
      "[1, 4, 7]\n"
     ]
    }
   ],
   "source": [
    "second_column = []\n",
    "for row in two_dimensional:\n",
    "    col2 = row[1]\n",
    "    second_column.append(col2)\n",
    "print(second_column)"
   ]
  },
  {
   "cell_type": "markdown",
   "metadata": {},
   "source": [
    "Ao trabalhar com arrays n-dimensionais, entretanto, basta utilizar a sintaxe `ndarray[:,column_index]`. O argumento `:` simboliza \"todas as linhas\". O mesmo resultado acima pode ser obtido com:"
   ]
  },
  {
   "cell_type": "code",
   "execution_count": 23,
   "metadata": {},
   "outputs": [
    {
     "name": "stdout",
     "output_type": "stream",
     "text": [
      "[1 4 7]\n"
     ]
    }
   ],
   "source": [
    "print(two_dimensional[:,1])"
   ]
  },
  {
   "cell_type": "markdown",
   "metadata": {},
   "source": [
    "Isto facilita sobremaneira a seleção de colunas específicas ou intervalo de colunas:"
   ]
  },
  {
   "cell_type": "code",
   "execution_count": 24,
   "metadata": {},
   "outputs": [
    {
     "name": "stdout",
     "output_type": "stream",
     "text": [
      "[0 3 6]\n",
      "[2 5 8]\n",
      "[4 7]\n"
     ]
    }
   ],
   "source": [
    "first_column = two_dimensional[:,0]\n",
    "last_column = two_dimensional[:,-1]\n",
    "middle_bottom = two_dimensional[1:3,1]\n",
    "\n",
    "print(first_column)\n",
    "print(last_column)\n",
    "print(middle_bottom)"
   ]
  },
  {
   "cell_type": "markdown",
   "metadata": {},
   "source": [
    "As imagens a seguir traçam um bom resumo do que foi visto acima (via [Dataquest](https://app.dataquest.io/m/289/introduction-to-numpy/7/selecting-columns-and-custom-slicing-ndarrays)):\n",
    "\n",
    "<img src=\"selection_columns_updated.svg\" />\n",
    "<img src=\"selection_1darray_updated.svg\" />\n",
    "<img src=\"selection_2darray_updated.svg\" />"
   ]
  },
  {
   "cell_type": "markdown",
   "metadata": {},
   "source": [
    "Operações aritméticas também são válidas. Se eu quisesse somar duas colunas de uma lista de listas, o código seria um pouco lento:"
   ]
  },
  {
   "cell_type": "code",
   "execution_count": 25,
   "metadata": {},
   "outputs": [
    {
     "name": "stdout",
     "output_type": "stream",
     "text": [
      "[5, 12, 24, 36]\n"
     ]
    }
   ],
   "source": [
    "uns_primos = [\n",
    "    [2, 3],\n",
    "    [5, 7],\n",
    "    [11, 13],\n",
    "    [17, 19]\n",
    "]\n",
    "\n",
    "somas = []\n",
    "\n",
    "for linha in uns_primos:\n",
    "    soma = linha[0] + linha[1]\n",
    "    somas.append(soma)\n",
    "    \n",
    "print(somas)"
   ]
  },
  {
   "cell_type": "markdown",
   "metadata": {},
   "source": [
    "Utilizando operações vetorizadas, este processo, além de mais simples, é também mais rápido de ser executado (imagine a diferença que faria num dataset de centenas de linhas!):"
   ]
  },
  {
   "cell_type": "code",
   "execution_count": 26,
   "metadata": {},
   "outputs": [
    {
     "name": "stdout",
     "output_type": "stream",
     "text": [
      "[ 5 12 24 36]\n"
     ]
    }
   ],
   "source": [
    "# converte a lista de listas num array n-dimensional\n",
    "uns_primos = np.array(uns_primos)\n",
    "\n",
    "# seleciona as colunas que se deseja somar\n",
    "# (cada uma é uma lista unidimensional)\n",
    "\n",
    "col1 = uns_primos[:,0]\n",
    "col2 = uns_primos[:,1]\n",
    "\n",
    "somas = col1 + col2\n",
    "print(somas)"
   ]
  },
  {
   "cell_type": "markdown",
   "metadata": {},
   "source": [
    "Isto pode ser simplificado ainda mais:"
   ]
  },
  {
   "cell_type": "code",
   "execution_count": 27,
   "metadata": {},
   "outputs": [],
   "source": [
    "somas = uns_primos[:,0] + uns_primos[:,1]"
   ]
  },
  {
   "cell_type": "markdown",
   "metadata": {},
   "source": [
    "A imagem a seguir resume este processo (via [dataquest](https://app.dataquest.io/m/289/introduction-to-numpy/8/vector-math))\n",
    "\n",
    "<img src=\"vectorized_addition.svg\" />"
   ]
  },
  {
   "cell_type": "markdown",
   "metadata": {},
   "source": [
    "O que foi visto com adição é válido também com outras operações, tais como subtração, multiplicação e divisão:"
   ]
  },
  {
   "cell_type": "code",
   "execution_count": 28,
   "metadata": {},
   "outputs": [
    {
     "name": "stdout",
     "output_type": "stream",
     "text": [
      "A diferença das colunas é:  [-1 -2 -2 -2]\n",
      "O produto das colunas é:  [  6  35 143 323]\n",
      "O quociente das colunas é:  [0.66666667 0.71428571 0.84615385 0.89473684]\n"
     ]
    }
   ],
   "source": [
    "diferencas = uns_primos[:,0] - uns_primos[:,1]\n",
    "produtos = uns_primos[:,0] * uns_primos[:,1]\n",
    "quocientes = uns_primos[:,0] / uns_primos[:,1]\n",
    "\n",
    "print('A diferença das colunas é: ', diferencas)\n",
    "print('O produto das colunas é: ', produtos)\n",
    "print('O quociente das colunas é: ', quocientes)"
   ]
  },
  {
   "cell_type": "markdown",
   "metadata": {},
   "source": [
    "Arrays n-dimensionais no Numpy possuem métodos para diversos cálculos, que podem ser conferidos [direto na documentação](https://docs.scipy.org/doc/numpy-1.14.0/reference/arrays.ndarray.html#calculation)."
   ]
  },
  {
   "cell_type": "markdown",
   "metadata": {},
   "source": [
    "## 3. pandas\n",
    "\n",
    "A biblioteca **pandas** é uma extensão da biblioteca **NumPy**. Suas principais melhorias são:\n",
    "\n",
    "1. Os valores dos eixos podem conter strings como rótulos, ao invés de simplesmente números.\n",
    "+ Os dataframes podem conter vários tipos de dados, incluindo inteiros, floats e strings.\n",
    "\n",
    "<img src=\"df_anatomy_static_resized.svg\">\n",
    "\n",
    "Para abrir o módulo, basta importá-lo. Por convenção, utilizamos o alias `pd`:"
   ]
  },
  {
   "cell_type": "code",
   "execution_count": 1,
   "metadata": {},
   "outputs": [],
   "source": [
    "import pandas as pd"
   ]
  },
  {
   "cell_type": "markdown",
   "metadata": {},
   "source": [
    "Para a abertura de arquivos `*.csv` utiliza-se a [função](https://pandas.pydata.org/pandas-docs/stable/reference/api/pandas.read_csv.html) `pandas.read_csv()`, que lê os dados e os armazena num dataframe. Vamos utilizá-la para abrir o arquivo `googleplaystore.csv`."
   ]
  },
  {
   "cell_type": "code",
   "execution_count": 2,
   "metadata": {},
   "outputs": [
    {
     "name": "stdout",
     "output_type": "stream",
     "text": [
      "<class 'pandas.core.frame.DataFrame'>\n",
      "(10841, 13)\n"
     ]
    }
   ],
   "source": [
    "android = pd.read_csv('googleplaystore.csv')\n",
    "print(type(android))\n",
    "print(android.shape)"
   ]
  },
  {
   "cell_type": "markdown",
   "metadata": {},
   "source": [
    "Assim como no módulo NumPy, o atributo `shape` retorna uma tupla com as dimensões dos eixos do dataframe. No caso do arquivo recém aberto, temos 10.841 linhas e 13 colunas. Podemos utilizar o método `df.head(n)` para exibir as primeiras `n` linhas; caso `n` não seja passado, são exibidas por padrão as cinco primeiras. O mesmo pode ser dito a respeito do método `df.tail(n)`, que retorna as últimas linhas do dataframe:"
   ]
  },
  {
   "cell_type": "code",
   "execution_count": 3,
   "metadata": {},
   "outputs": [],
   "source": [
    "android_head = android.head(8)\n",
    "android_tail = android.tail(7)"
   ]
  },
  {
   "cell_type": "markdown",
   "metadata": {},
   "source": [
    "Outra função que torna o pandas melhor para se trabalhar com dados é a possibilidade dos dataframes conterem mais de um tipo de dado. Mencionamos na introdução deste capítulo que os eixos podem ser rotulados com strings e as colunas podem conter valor inteiros, flutuantes ou literais.\n",
    "\n",
    "Nós podemos utilizar o [atributo](http://pandas.pydata.org/pandas-docs/stable/generated/pandas.DataFrame.dtypes.html#pandas.DataFrame.dtypes) `df.dtypes` para exibir informações a respeito dos tipos de dados de cada coluna do dataframe:"
   ]
  },
  {
   "cell_type": "code",
   "execution_count": 4,
   "metadata": {},
   "outputs": [
    {
     "name": "stdout",
     "output_type": "stream",
     "text": [
      "App                object\n",
      "Category           object\n",
      "Rating            float64\n",
      "Reviews            object\n",
      "Size               object\n",
      "Installs           object\n",
      "Type               object\n",
      "Price              object\n",
      "Content Rating     object\n",
      "Genres             object\n",
      "Last Updated       object\n",
      "Current Ver        object\n",
      "Android Ver        object\n",
      "dtype: object\n"
     ]
    }
   ],
   "source": [
    "print(android.dtypes)"
   ]
  },
  {
   "cell_type": "markdown",
   "metadata": {},
   "source": [
    "Geralmente são retornados os tipos `int64`, que se refere a valores inteiros armazenados em 64 bits, `float64`, que armazena valores com ponto flutuante e `object`, utilizado para colunas cujos dados não se encaixam nos casos anteriores — via de regra, valores literais.\n",
    "\n",
    "O [método](http://pandas.pydata.org/pandas-docs/stable/generated/pandas.DataFrame.info.html#pandas.DataFrame.info) `df.info()` nos retorna uma boa visão global do dataframe:"
   ]
  },
  {
   "cell_type": "code",
   "execution_count": 5,
   "metadata": {},
   "outputs": [
    {
     "name": "stdout",
     "output_type": "stream",
     "text": [
      "<class 'pandas.core.frame.DataFrame'>\n",
      "RangeIndex: 10841 entries, 0 to 10840\n",
      "Data columns (total 13 columns):\n",
      "App               10841 non-null object\n",
      "Category          10841 non-null object\n",
      "Rating            9367 non-null float64\n",
      "Reviews           10841 non-null object\n",
      "Size              10841 non-null object\n",
      "Installs          10841 non-null object\n",
      "Type              10840 non-null object\n",
      "Price             10841 non-null object\n",
      "Content Rating    10840 non-null object\n",
      "Genres            10841 non-null object\n",
      "Last Updated      10841 non-null object\n",
      "Current Ver       10833 non-null object\n",
      "Android Ver       10838 non-null object\n",
      "dtypes: float64(1), object(12)\n",
      "memory usage: 1.1+ MB\n"
     ]
    }
   ],
   "source": [
    "android.info()"
   ]
  },
  {
   "cell_type": "markdown",
   "metadata": {},
   "source": [
    "Devido ao fato dos eixos serem rotulados, podemos selecionar dados utilizando esses rótulos — vale mencionar que, comparativamente, no NumPy precisaríamos saber o índice da coluna para realizar essa seleção! Para tanto, basta utilizar o [método](http://pandas.pydata.org/pandas-docs/stable/generated/pandas.DataFrame.loc.html#pandas.DataFrame.loc) `df.loc[]`, cuja sintaxe padrão é `df.loc[row_label, column_label]`. Aqui é importante notar que este método utiliza colchetes ao invés de parênteses, como seria de costume. Vamos selecionar a coluna `'Category'` de nosso dataset:"
   ]
  },
  {
   "cell_type": "code",
   "execution_count": 6,
   "metadata": {},
   "outputs": [
    {
     "name": "stdout",
     "output_type": "stream",
     "text": [
      "0             ART_AND_DESIGN\n",
      "1             ART_AND_DESIGN\n",
      "2             ART_AND_DESIGN\n",
      "3             ART_AND_DESIGN\n",
      "4             ART_AND_DESIGN\n",
      "                ...         \n",
      "10836                 FAMILY\n",
      "10837                 FAMILY\n",
      "10838                MEDICAL\n",
      "10839    BOOKS_AND_REFERENCE\n",
      "10840              LIFESTYLE\n",
      "Name: Category, Length: 10841, dtype: object\n",
      "<class 'pandas.core.series.Series'>\n"
     ]
    }
   ],
   "source": [
    "android_category = android.loc[:,'Category']\n",
    "print(android_category)\n",
    "print(type(android_category))"
   ]
  },
  {
   "cell_type": "markdown",
   "metadata": {},
   "source": [
    "Ao selecionar apenas uma coluna de nosso dataframe, obtemos um novo tipo de dado: um `'series object'`, isto é, uma série. No pandas, séries são objetos unidimensionais. Ou seja: 1D série, 2D dataframe.\n",
    "\n",
    "<img src=\"df_exploded_resized.svg\">"
   ]
  },
  {
   "cell_type": "markdown",
   "metadata": {},
   "source": [
    "Para selecionar mais de uma coluna, utilizamos uma *lista de rótulos*.\n",
    "Mas primeiro deixa eu abrir um outro dataset que esse ta uma merda."
   ]
  },
  {
   "cell_type": "code",
   "execution_count": 7,
   "metadata": {},
   "outputs": [
    {
     "name": "stdout",
     "output_type": "stream",
     "text": [
      "            Unnamed: 0  education  income  women  prestige  census  type\n",
      "0   gov.administrators      13.11   12351  11.16      68.8    1113  prof\n",
      "1     general.managers      12.26   25879   4.02      69.1    1130  prof\n",
      "2          accountants      12.77    9271  15.70      63.4    1171  prof\n",
      "3  purchasing.officers      11.42    8865   9.11      56.8    1175  prof\n",
      "4             chemists      14.62    8403  11.68      73.5    2111  prof\n"
     ]
    }
   ],
   "source": [
    "prestige = pd.read_csv('prestige.csv')\n",
    "print(prestige.head())"
   ]
  },
  {
   "cell_type": "code",
   "execution_count": null,
   "metadata": {},
   "outputs": [],
   "source": []
  }
 ],
 "metadata": {
  "kernelspec": {
   "display_name": "Python 3",
   "language": "python",
   "name": "python3"
  },
  "language_info": {
   "codemirror_mode": {
    "name": "ipython",
    "version": 3
   },
   "file_extension": ".py",
   "mimetype": "text/x-python",
   "name": "python",
   "nbconvert_exporter": "python",
   "pygments_lexer": "ipython3",
   "version": "3.7.4"
  }
 },
 "nbformat": 4,
 "nbformat_minor": 2
}
