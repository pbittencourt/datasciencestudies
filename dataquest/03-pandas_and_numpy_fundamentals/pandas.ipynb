{
 "cells": [
  {
   "cell_type": "markdown",
   "metadata": {},
   "source": [
    "# pandas\n",
    "\n",
    "Depois a gente mescla no outro caderno.\n",
    "\n",
    "A biblioteca pandas é uma extensão da biblioteca NumPy. Suas principais melhorias são:\n",
    "\n",
    "1. Os valores dos eixos podem conter strings como rótulos, ao invés de simplesmente números.\n",
    "+ Os dataframes podem conter vários tipos de dados, incluindo inteiros, floats e strings.\n",
    "\n",
    "<img src=\"df_anatomy_static_resized.svg\">\n",
    "\n",
    "Para abrir o módulo, basta importá-lo. Por convenção, utilizamos o alias `pd`:"
   ]
  },
  {
   "cell_type": "code",
   "execution_count": 1,
   "metadata": {},
   "outputs": [],
   "source": [
    "import pandas as pd"
   ]
  },
  {
   "cell_type": "markdown",
   "metadata": {},
   "source": [
    "Para a abertura de arquivos `*.csv` utiliza-se a [função](https://pandas.pydata.org/pandas-docs/stable/reference/api/pandas.read_csv.html) `pandas.read_csv()`, que lê os dados e armazena-os num dataframe. Vamos utilizá-la para abrir o arquivo `googleplaystore.csv`., que contém muitas coisas aí e depois eu escrevo um pouco melhor..."
   ]
  },
  {
   "cell_type": "code",
   "execution_count": 4,
   "metadata": {},
   "outputs": [
    {
     "name": "stdout",
     "output_type": "stream",
     "text": [
      "<class 'pandas.core.frame.DataFrame'>\n",
      "(10841, 13)\n"
     ]
    }
   ],
   "source": [
    "android = pd.read_csv('googleplaystore.csv')\n",
    "print(type(android))\n",
    "print(android.shape)"
   ]
  },
  {
   "cell_type": "markdown",
   "metadata": {},
   "source": [
    "Assim como no módulo NumPy, o atributo `.shape` retorna uma tupla com as dimensões dos eixos do dataframe. No caso do arquivo recém aberto, temos 10.841 linhas e 13 colunas. Podemos utilizar o método `df.head(n)` para exibir as primeiras `n` linhas; caso `n` não seja passado, são exibidas por padrão as cinco primeiras. O mesmo pode ser dito a respeito do método `df.tail(n)`, que retorna as últimas linhas do dataframe:"
   ]
  },
  {
   "cell_type": "code",
   "execution_count": 6,
   "metadata": {},
   "outputs": [
    {
     "name": "stdout",
     "output_type": "stream",
     "text": [
      "                                                 App        Category  Rating  \\\n",
      "0     Photo Editor & Candy Camera & Grid & ScrapBook  ART_AND_DESIGN     4.1   \n",
      "1                                Coloring book moana  ART_AND_DESIGN     3.9   \n",
      "2  U Launcher Lite – FREE Live Cool Themes, Hide ...  ART_AND_DESIGN     4.7   \n",
      "3                              Sketch - Draw & Paint  ART_AND_DESIGN     4.5   \n",
      "4              Pixel Draw - Number Art Coloring Book  ART_AND_DESIGN     4.3   \n",
      "5                         Paper flowers instructions  ART_AND_DESIGN     4.4   \n",
      "6            Smoke Effect Photo Maker - Smoke Editor  ART_AND_DESIGN     3.8   \n",
      "7                                   Infinite Painter  ART_AND_DESIGN     4.1   \n",
      "\n",
      "  Reviews  Size     Installs  Type Price Content Rating  \\\n",
      "0     159   19M      10,000+  Free     0       Everyone   \n",
      "1     967   14M     500,000+  Free     0       Everyone   \n",
      "2   87510  8.7M   5,000,000+  Free     0       Everyone   \n",
      "3  215644   25M  50,000,000+  Free     0           Teen   \n",
      "4     967  2.8M     100,000+  Free     0       Everyone   \n",
      "5     167  5.6M      50,000+  Free     0       Everyone   \n",
      "6     178   19M      50,000+  Free     0       Everyone   \n",
      "7   36815   29M   1,000,000+  Free     0       Everyone   \n",
      "\n",
      "                      Genres      Last Updated         Current Ver  \\\n",
      "0               Art & Design   January 7, 2018               1.0.0   \n",
      "1  Art & Design;Pretend Play  January 15, 2018               2.0.0   \n",
      "2               Art & Design    August 1, 2018               1.2.4   \n",
      "3               Art & Design      June 8, 2018  Varies with device   \n",
      "4    Art & Design;Creativity     June 20, 2018                 1.1   \n",
      "5               Art & Design    March 26, 2017                 1.0   \n",
      "6               Art & Design    April 26, 2018                 1.1   \n",
      "7               Art & Design     June 14, 2018            6.1.61.1   \n",
      "\n",
      "    Android Ver  \n",
      "0  4.0.3 and up  \n",
      "1  4.0.3 and up  \n",
      "2  4.0.3 and up  \n",
      "3    4.2 and up  \n",
      "4    4.4 and up  \n",
      "5    2.3 and up  \n",
      "6  4.0.3 and up  \n",
      "7    4.2 and up  \n",
      "                                                 App             Category  \\\n",
      "10834                                  FR Calculator               FAMILY   \n",
      "10835                                       FR Forms             BUSINESS   \n",
      "10836                               Sya9a Maroc - FR               FAMILY   \n",
      "10837               Fr. Mike Schmitz Audio Teachings               FAMILY   \n",
      "10838                         Parkinson Exercices FR              MEDICAL   \n",
      "10839                  The SCP Foundation DB fr nn5n  BOOKS_AND_REFERENCE   \n",
      "10840  iHoroscope - 2018 Daily Horoscope & Astrology            LIFESTYLE   \n",
      "\n",
      "       Rating Reviews                Size     Installs  Type Price  \\\n",
      "10834     4.0       7                2.6M         500+  Free     0   \n",
      "10835     NaN       0                9.6M          10+  Free     0   \n",
      "10836     4.5      38                 53M       5,000+  Free     0   \n",
      "10837     5.0       4                3.6M         100+  Free     0   \n",
      "10838     NaN       3                9.5M       1,000+  Free     0   \n",
      "10839     4.5     114  Varies with device       1,000+  Free     0   \n",
      "10840     4.5  398307                 19M  10,000,000+  Free     0   \n",
      "\n",
      "      Content Rating             Genres        Last Updated  \\\n",
      "10834       Everyone          Education       June 18, 2017   \n",
      "10835       Everyone           Business  September 29, 2016   \n",
      "10836       Everyone          Education       July 25, 2017   \n",
      "10837       Everyone          Education        July 6, 2018   \n",
      "10838       Everyone            Medical    January 20, 2017   \n",
      "10839     Mature 17+  Books & Reference    January 19, 2015   \n",
      "10840       Everyone          Lifestyle       July 25, 2018   \n",
      "\n",
      "              Current Ver         Android Ver  \n",
      "10834               1.0.0          4.1 and up  \n",
      "10835               1.1.5          4.0 and up  \n",
      "10836                1.48          4.1 and up  \n",
      "10837                 1.0          4.1 and up  \n",
      "10838                 1.0          2.2 and up  \n",
      "10839  Varies with device  Varies with device  \n",
      "10840  Varies with device  Varies with device  \n"
     ]
    }
   ],
   "source": [
    "android_head = android.head(8)\n",
    "android_tail = android.tail(7)\n",
    "\n",
    "print(android_head)\n",
    "print(android_tail)"
   ]
  },
  {
   "cell_type": "markdown",
   "metadata": {},
   "source": [
    "Outra função que torna o pandas melhor para se trabalhar com dados é a possibilidade dos dataframes conterem mais de um tipo de dado. Mencionamos na introdução deste capítulo que os eixos podem ser rotulados com strings e as colunas podem conter valor inteiros, flutuantes ou literais.\n",
    "\n",
    "Nós podemos utilizar o [atributo](http://pandas.pydata.org/pandas-docs/stable/generated/pandas.DataFrame.dtypes.html#pandas.DataFrame.dtypes) `df.dtypes` para exibir informações a respeito dos tipos de dados de cada coluna do dataframe:"
   ]
  },
  {
   "cell_type": "code",
   "execution_count": 7,
   "metadata": {},
   "outputs": [
    {
     "name": "stdout",
     "output_type": "stream",
     "text": [
      "App                object\n",
      "Category           object\n",
      "Rating            float64\n",
      "Reviews            object\n",
      "Size               object\n",
      "Installs           object\n",
      "Type               object\n",
      "Price              object\n",
      "Content Rating     object\n",
      "Genres             object\n",
      "Last Updated       object\n",
      "Current Ver        object\n",
      "Android Ver        object\n",
      "dtype: object\n"
     ]
    }
   ],
   "source": [
    "print(android.dtypes)"
   ]
  },
  {
   "cell_type": "markdown",
   "metadata": {},
   "source": [
    "Geralmente são retornados os tipos `int64`, que se refere a valores inteiros armazenados em 64 bits, `float64`, que armazena valores com ponto flutuante e `object`, utilizado para colunas cujos dados não se encaixam nos casos anteriores — via de regra, valores literais.\n",
    "\n",
    "O [método](http://pandas.pydata.org/pandas-docs/stable/generated/pandas.DataFrame.info.html#pandas.DataFrame.info) `df.info()` nos retorna uma boa visão global do dataframe:"
   ]
  },
  {
   "cell_type": "code",
   "execution_count": 8,
   "metadata": {},
   "outputs": [
    {
     "name": "stdout",
     "output_type": "stream",
     "text": [
      "<class 'pandas.core.frame.DataFrame'>\n",
      "RangeIndex: 10841 entries, 0 to 10840\n",
      "Data columns (total 13 columns):\n",
      "App               10841 non-null object\n",
      "Category          10841 non-null object\n",
      "Rating            9367 non-null float64\n",
      "Reviews           10841 non-null object\n",
      "Size              10841 non-null object\n",
      "Installs          10841 non-null object\n",
      "Type              10840 non-null object\n",
      "Price             10841 non-null object\n",
      "Content Rating    10840 non-null object\n",
      "Genres            10841 non-null object\n",
      "Last Updated      10841 non-null object\n",
      "Current Ver       10833 non-null object\n",
      "Android Ver       10838 non-null object\n",
      "dtypes: float64(1), object(12)\n",
      "memory usage: 1.1+ MB\n"
     ]
    }
   ],
   "source": [
    "android.info()"
   ]
  },
  {
   "cell_type": "markdown",
   "metadata": {},
   "source": [
    "Devido ao fato dos eixos serem rotulados, podemos selecionar dados utilizando esses rótulos — vale mencionar que, comparativamente, no NumPy precisaríamos saber o índice da coluna para realizar essa seleção! Para tanto, basta utilizar o [método](http://pandas.pydata.org/pandas-docs/stable/generated/pandas.DataFrame.loc.html#pandas.DataFrame.loc) `df.loc[]`, cuja sintaxe padrão é `df.loc[row_label, column_label]`. Aqui é importante notar que este método utiliza colchetes ao invés de parênteses, como seria de costume. Vamos selecionar a coluna `'Category'` de nosso dataset:"
   ]
  },
  {
   "cell_type": "code",
   "execution_count": 13,
   "metadata": {},
   "outputs": [
    {
     "name": "stdout",
     "output_type": "stream",
     "text": [
      "0             ART_AND_DESIGN\n",
      "1             ART_AND_DESIGN\n",
      "2             ART_AND_DESIGN\n",
      "3             ART_AND_DESIGN\n",
      "4             ART_AND_DESIGN\n",
      "                ...         \n",
      "10836                 FAMILY\n",
      "10837                 FAMILY\n",
      "10838                MEDICAL\n",
      "10839    BOOKS_AND_REFERENCE\n",
      "10840              LIFESTYLE\n",
      "Name: Category, Length: 10841, dtype: object\n",
      "<class 'pandas.core.series.Series'>\n"
     ]
    }
   ],
   "source": [
    "android_category = android.loc[:,'Category']\n",
    "print(android_category)\n",
    "print(type(android_category))"
   ]
  },
  {
   "cell_type": "markdown",
   "metadata": {},
   "source": [
    "Ao selecionar apenas uma coluna de nosso dataframe, obtemos um novo tipo de dado: um `'series object'`, isto é, uma série. No pandas, séries são objetos unidimensionais. Ou seja: 1D série, 2D dataframe.\n",
    "\n",
    "<img src=\"df_exploded_resized.svg\">"
   ]
  },
  {
   "cell_type": "markdown",
   "metadata": {},
   "source": [
    "Para selecionar mais de uma coluna, utilizamos uma *lista de rótulos*.\n",
    "Mas primeiro deixa eu abrir um outro dataset que esse ta uma merda."
   ]
  },
  {
   "cell_type": "code",
   "execution_count": 16,
   "metadata": {},
   "outputs": [
    {
     "name": "stdout",
     "output_type": "stream",
     "text": [
      "            Unnamed: 0  education  income  women  prestige  census  type\n",
      "0   gov.administrators      13.11   12351  11.16      68.8    1113  prof\n",
      "1     general.managers      12.26   25879   4.02      69.1    1130  prof\n",
      "2          accountants      12.77    9271  15.70      63.4    1171  prof\n",
      "3  purchasing.officers      11.42    8865   9.11      56.8    1175  prof\n",
      "4             chemists      14.62    8403  11.68      73.5    2111  prof\n"
     ]
    }
   ],
   "source": [
    "prestige = pd.read_csv('prestige.csv')\n",
    "print(prestige.head())"
   ]
  }
 ],
 "metadata": {
  "kernelspec": {
   "display_name": "Python 3",
   "language": "python",
   "name": "python3"
  },
  "language_info": {
   "codemirror_mode": {
    "name": "ipython",
    "version": 3
   },
   "file_extension": ".py",
   "mimetype": "text/x-python",
   "name": "python",
   "nbconvert_exporter": "python",
   "pygments_lexer": "ipython3",
   "version": "3.7.4"
  }
 },
 "nbformat": 4,
 "nbformat_minor": 2
}
