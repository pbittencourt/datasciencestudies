{
 "cells": [
  {
   "cell_type": "markdown",
   "metadata": {},
   "source": [
    "# Analisando dados da 'Pesquisa ARVI Digital'\n",
    "\n",
    "Em abril de 2020, durante o período de isolamento social devido à COVID-19, realizamos uma pesquisa com os estudantes, a fim de saber quais problemas eles estavam encontrando para acessar as plataformas digitais nas quais nossas aulas síncronas eram realizadas. Também tínhamos o interesse de saber um pouco mais a respeito de suas rotinas de estudos, disciplinas nas quais se encontravam sobrecarregados, dentre outros aspectos relacionados.\n",
    "\n",
    "A pesquisa foi realizada através de um formulário Google, enviado para todos os estudantes de ensinos Fundamental e Médio, com adesão de 76 indivíduos. As respostas foram coletadas numa planilha Google, vinculada ao formulário, posteriormente exportados para um arquivo csv. Neste documento, pretendemos analisar esses dados e gerar alguns gráficos, a fim de obter insights relevantes para a administração escolar."
   ]
  },
  {
   "cell_type": "markdown",
   "metadata": {},
   "source": [
    "## 1. Abertura dos dados e nomenclatura das colunas\n",
    "\n",
    "Comecemos abrindo nosso dataset, que foi exportado para um arquivo *csv* a partir da planilha Google com as respostas do formulário:"
   ]
  },
  {
   "cell_type": "code",
   "execution_count": 1,
   "metadata": {},
   "outputs": [
    {
     "name": "stdout",
     "output_type": "stream",
     "text": [
      "<class 'pandas.core.frame.DataFrame'>\n",
      "RangeIndex: 76 entries, 0 to 75\n",
      "Data columns (total 12 columns):\n",
      "Carimbo de data/hora                                                                                                                     76 non-null object\n",
      "Endereço de e-mail                                                                                                                       76 non-null object\n",
      "Considerando as últimas 2 semanas, você teve problemas para participar das aulas ao vivo?                                                76 non-null object\n",
      "Quanto à quantidade de aulas síncronas (ao vivo):                                                                                        76 non-null object\n",
      "Quanto ao horário das aulas síncronas:                                                                                                   76 non-null object\n",
      "Quanto ao tempo de duração de cada aula síncrona:                                                                                        76 non-null object\n",
      "Quanto ao intervalo entre as disciplinas:                                                                                                76 non-null object\n",
      "A quantidade de atividades e materiais enviados pelos professores até agora foi:                                                         76 non-null object\n",
      "Em quais disciplinas a quantidade de atividades o deixou sobrecarregado?                                                                 41 non-null object\n",
      "Em quais disciplinas a quantidade de atividades foi insuficiente?                                                                        2 non-null object\n",
      "Por quanto tempo em média vc tem se dedicado às atividades síncronas e assíncronas (aulas ao vivo e atividades gravadas ou enviadas)?    76 non-null object\n",
      "Deixe um comentário aqui para a Escola ou para os professores.                                                                           76 non-null object\n",
      "dtypes: object(12)\n",
      "memory usage: 7.2+ KB\n"
     ]
    }
   ],
   "source": [
    "import pandas as pd\n",
    "df = pd.read_csv('graficos_arvi.csv')\n",
    "df.info()"
   ]
  },
  {
   "cell_type": "markdown",
   "metadata": {},
   "source": [
    "Temos então 76 respostas ao formulário, que continha dez perguntas ao todo -- das 12 colunas, 2 correspondem a dados do usuário: carimbo de data/hora da resposta, gerado automaticamente, e endereço de e-mail. Logo de cara, percebemos que os rótulos das colunas podem complicar nossa análise, uma vez que trazem a pergunta por completo. É recomendável, portanto, alterá-los para categorias mais simples:"
   ]
  },
  {
   "cell_type": "code",
   "execution_count": 2,
   "metadata": {},
   "outputs": [
    {
     "data": {
      "text/plain": [
       "Index(['Carimbo de data/hora', 'Endereço de e-mail',\n",
       "       'Considerando as últimas 2 semanas, você teve problemas para participar das aulas ao vivo?',\n",
       "       'Quanto à quantidade de aulas síncronas (ao vivo):',\n",
       "       'Quanto ao horário das aulas síncronas:',\n",
       "       'Quanto ao tempo de duração de cada aula síncrona:',\n",
       "       'Quanto ao intervalo entre as disciplinas:',\n",
       "       'A quantidade de atividades e materiais enviados pelos professores até agora foi:',\n",
       "       'Em quais disciplinas a quantidade de atividades o deixou sobrecarregado?',\n",
       "       'Em quais disciplinas a quantidade de atividades foi insuficiente?',\n",
       "       'Por quanto tempo em média vc tem se dedicado às atividades síncronas e assíncronas (aulas ao vivo e atividades gravadas ou enviadas)?',\n",
       "       'Deixe um comentário aqui para a Escola ou para os professores.'],\n",
       "      dtype='object')"
      ]
     },
     "execution_count": 2,
     "metadata": {},
     "output_type": "execute_result"
    }
   ],
   "source": [
    "df.columns"
   ]
  },
  {
   "cell_type": "code",
   "execution_count": 3,
   "metadata": {},
   "outputs": [
    {
     "data": {
      "text/html": [
       "<div>\n",
       "<style scoped>\n",
       "    .dataframe tbody tr th:only-of-type {\n",
       "        vertical-align: middle;\n",
       "    }\n",
       "\n",
       "    .dataframe tbody tr th {\n",
       "        vertical-align: top;\n",
       "    }\n",
       "\n",
       "    .dataframe thead th {\n",
       "        text-align: right;\n",
       "    }\n",
       "</style>\n",
       "<table border=\"1\" class=\"dataframe\">\n",
       "  <thead>\n",
       "    <tr style=\"text-align: right;\">\n",
       "      <th></th>\n",
       "      <th>Data/hora</th>\n",
       "      <th>E-mail</th>\n",
       "      <th>Problemas de participação</th>\n",
       "      <th>Quantidade de aulas</th>\n",
       "      <th>Horário das aulas</th>\n",
       "      <th>Duração das aulas</th>\n",
       "      <th>Intervalo entre aulas</th>\n",
       "      <th>Quantidade de materiais</th>\n",
       "      <th>Disciplinas sobrecarregado</th>\n",
       "      <th>Disciplinas insuficiente</th>\n",
       "      <th>Tempo de dedicação</th>\n",
       "      <th>Comentários</th>\n",
       "    </tr>\n",
       "  </thead>\n",
       "  <tbody>\n",
       "    <tr>\n",
       "      <td>0</td>\n",
       "      <td>26/04/2020 23:13:14</td>\n",
       "      <td>livia.tagliapietra@escolartedeviver.com.br</td>\n",
       "      <td>Perdi a hora em algumas ocasiões., Tive dificu...</td>\n",
       "      <td>Pode continuar assim.</td>\n",
       "      <td>Eu acho que começa muito cedo.</td>\n",
       "      <td>Adequado. Cada professor usou o tempo necessário.</td>\n",
       "      <td>Foi ótimo!</td>\n",
       "      <td>Adequada.</td>\n",
       "      <td>NaN</td>\n",
       "      <td>NaN</td>\n",
       "      <td>de 2 a 5 horas por dia</td>\n",
       "      <td>ta tudo bem!</td>\n",
       "    </tr>\n",
       "    <tr>\n",
       "      <td>1</td>\n",
       "      <td>26/04/2020 23:15:48</td>\n",
       "      <td>italo.costa@escolartedeviver.com.br</td>\n",
       "      <td>Não tive problemas.</td>\n",
       "      <td>Pode continuar assim.</td>\n",
       "      <td>Para mim, tanto faz.</td>\n",
       "      <td>Adequado. Cada professor usou o tempo necessário.</td>\n",
       "      <td>Foi ótimo!</td>\n",
       "      <td>Adequada.</td>\n",
       "      <td>NaN</td>\n",
       "      <td>NaN</td>\n",
       "      <td>até 2 horas por dia.</td>\n",
       "      <td>Quero voltar para escola melhor</td>\n",
       "    </tr>\n",
       "    <tr>\n",
       "      <td>2</td>\n",
       "      <td>26/04/2020 23:16:32</td>\n",
       "      <td>gabriela.huszka@escolartedeviver.com.br</td>\n",
       "      <td>Perdi a hora em algumas ocasiões., Tive dificu...</td>\n",
       "      <td>Pode continuar assim.</td>\n",
       "      <td>Para mim está ótimo: nem muito cedo, nem muito...</td>\n",
       "      <td>Adequado. Cada professor usou o tempo necessário.</td>\n",
       "      <td>Acho que deveria ter só um intervalo e as outr...</td>\n",
       "      <td>Adequada.</td>\n",
       "      <td>NaN</td>\n",
       "      <td>NaN</td>\n",
       "      <td>de 2 a 5 horas por dia</td>\n",
       "      <td>Acho que o tempo de intervalo entre as aulas é...</td>\n",
       "    </tr>\n",
       "    <tr>\n",
       "      <td>3</td>\n",
       "      <td>26/04/2020 23:18:13</td>\n",
       "      <td>giulia.checheto@escolartedeviver.com.br</td>\n",
       "      <td>Perdi a hora em algumas ocasiões.</td>\n",
       "      <td>Achei muito.</td>\n",
       "      <td>Eu acho que começa muito cedo.</td>\n",
       "      <td>Adequado. Cada professor usou o tempo necessário.</td>\n",
       "      <td>Foi ótimo!</td>\n",
       "      <td>Em excesso.</td>\n",
       "      <td>DG/Geometria, Física, Inglês, Redação</td>\n",
       "      <td>NaN</td>\n",
       "      <td>de 2 a 5 horas por dia</td>\n",
       "      <td>Está tudo ótimo, mas acho que algumas coisas e...</td>\n",
       "    </tr>\n",
       "    <tr>\n",
       "      <td>4</td>\n",
       "      <td>26/04/2020 23:18:28</td>\n",
       "      <td>pedro.nascente@escolartedeviver.com.br</td>\n",
       "      <td>Perdi a hora em algumas ocasiões., Algumas vez...</td>\n",
       "      <td>Achei muito.</td>\n",
       "      <td>Eu acho que começa muito cedo.</td>\n",
       "      <td>Acho que poderia ter menos de 30 minutos</td>\n",
       "      <td>Poderia ser maior.</td>\n",
       "      <td>Em excesso.</td>\n",
       "      <td>DG/Geometria, Filosofia, Física, Geografia, Hi...</td>\n",
       "      <td>NaN</td>\n",
       "      <td>de 2 a 5 horas por dia</td>\n",
       "      <td>muito trabalho e matéria, difícil encontrar os...</td>\n",
       "    </tr>\n",
       "  </tbody>\n",
       "</table>\n",
       "</div>"
      ],
      "text/plain": [
       "             Data/hora                                      E-mail  \\\n",
       "0  26/04/2020 23:13:14  livia.tagliapietra@escolartedeviver.com.br   \n",
       "1  26/04/2020 23:15:48         italo.costa@escolartedeviver.com.br   \n",
       "2  26/04/2020 23:16:32     gabriela.huszka@escolartedeviver.com.br   \n",
       "3  26/04/2020 23:18:13     giulia.checheto@escolartedeviver.com.br   \n",
       "4  26/04/2020 23:18:28      pedro.nascente@escolartedeviver.com.br   \n",
       "\n",
       "                           Problemas de participação    Quantidade de aulas  \\\n",
       "0  Perdi a hora em algumas ocasiões., Tive dificu...  Pode continuar assim.   \n",
       "1                                Não tive problemas.  Pode continuar assim.   \n",
       "2  Perdi a hora em algumas ocasiões., Tive dificu...  Pode continuar assim.   \n",
       "3                  Perdi a hora em algumas ocasiões.           Achei muito.   \n",
       "4  Perdi a hora em algumas ocasiões., Algumas vez...           Achei muito.   \n",
       "\n",
       "                                   Horário das aulas  \\\n",
       "0                     Eu acho que começa muito cedo.   \n",
       "1                               Para mim, tanto faz.   \n",
       "2  Para mim está ótimo: nem muito cedo, nem muito...   \n",
       "3                     Eu acho que começa muito cedo.   \n",
       "4                     Eu acho que começa muito cedo.   \n",
       "\n",
       "                                   Duração das aulas  \\\n",
       "0  Adequado. Cada professor usou o tempo necessário.   \n",
       "1  Adequado. Cada professor usou o tempo necessário.   \n",
       "2  Adequado. Cada professor usou o tempo necessário.   \n",
       "3  Adequado. Cada professor usou o tempo necessário.   \n",
       "4           Acho que poderia ter menos de 30 minutos   \n",
       "\n",
       "                               Intervalo entre aulas Quantidade de materiais  \\\n",
       "0                                         Foi ótimo!               Adequada.   \n",
       "1                                         Foi ótimo!               Adequada.   \n",
       "2  Acho que deveria ter só um intervalo e as outr...               Adequada.   \n",
       "3                                         Foi ótimo!             Em excesso.   \n",
       "4                                 Poderia ser maior.             Em excesso.   \n",
       "\n",
       "                          Disciplinas sobrecarregado Disciplinas insuficiente  \\\n",
       "0                                                NaN                      NaN   \n",
       "1                                                NaN                      NaN   \n",
       "2                                                NaN                      NaN   \n",
       "3              DG/Geometria, Física, Inglês, Redação                      NaN   \n",
       "4  DG/Geometria, Filosofia, Física, Geografia, Hi...                      NaN   \n",
       "\n",
       "       Tempo de dedicação                                        Comentários  \n",
       "0  de 2 a 5 horas por dia                                      ta tudo bem!   \n",
       "1    até 2 horas por dia.                    Quero voltar para escola melhor  \n",
       "2  de 2 a 5 horas por dia  Acho que o tempo de intervalo entre as aulas é...  \n",
       "3  de 2 a 5 horas por dia  Está tudo ótimo, mas acho que algumas coisas e...  \n",
       "4  de 2 a 5 horas por dia  muito trabalho e matéria, difícil encontrar os...  "
      ]
     },
     "execution_count": 3,
     "metadata": {},
     "output_type": "execute_result"
    }
   ],
   "source": [
    "df.columns = [ # define novos nomes para as colunas\n",
    "    'Data/hora', \n",
    "    'E-mail', \n",
    "    'Problemas de participação', \n",
    "    'Quantidade de aulas', \n",
    "    'Horário das aulas', \n",
    "    'Duração das aulas',\n",
    "    'Intervalo entre aulas',\n",
    "    'Quantidade de materiais',\n",
    "    'Disciplinas sobrecarregado',\n",
    "    'Disciplinas insuficiente',\n",
    "    'Tempo de dedicação',\n",
    "    'Comentários'\n",
    "]\n",
    "\n",
    "df.head() # após alteração a tabela passa a ser corretamente exibida!"
   ]
  },
  {
   "cell_type": "markdown",
   "metadata": {},
   "source": [
    "## 2. Analisando categorias com respostas múltiplas\n",
    "\n",
    "### 2.1. Categoria \"problemas de participação\"\n",
    "\n",
    "Em algumas categorias, o estudante poderia fornecer múltiplas respostas. Vejamos o item `'Problemas de participação'`:"
   ]
  },
  {
   "cell_type": "code",
   "execution_count": 4,
   "metadata": {},
   "outputs": [
    {
     "name": "stdout",
     "output_type": "stream",
     "text": [
      "1 )  Perdi a hora em algumas ocasiões., Tive dificuldades em achar o link da aula., Tive dificuldades com meu equipamento e/ou internet., Tive dificuldades em me conectar ao PLURALL para participar da aula., O vídeo ficou travando., O áudio estava ruim.\n",
      "2 )  Não tive problemas.\n",
      "3 )  Perdi a hora em algumas ocasiões., Tive dificuldades com meu equipamento e/ou internet., Tive dificuldades em me conectar ao PLURALL para participar da aula., O vídeo ficou travando., O áudio estava ruim.\n",
      "4 )  Perdi a hora em algumas ocasiões.\n",
      "5 )  Perdi a hora em algumas ocasiões., Algumas vezes, não vi o horário das aulas direito., Tive dificuldades em achar o link da aula., Tive dificuldades com meu equipamento e/ou internet., Tive dificuldades em me conectar ao PLURALL para participar da aula., Tive dificuldades em me conectar ao hangouts para partiipar da aula., O vídeo ficou travando., O áudio estava ruim.\n",
      "6 )  Tive dificuldades em achar o link da aula.\n",
      "7 )  Não tive problemas.\n",
      "8 )  Perdi a hora em algumas ocasiões.\n",
      "9 )  Tive dificuldades em me conectar ao PLURALL para participar da aula.\n",
      "10 )  Não tive problemas.\n",
      "11 )  Perdi a hora em algumas ocasiões.\n",
      "12 )  Não tive problemas.\n",
      "13 )  Tive dificuldades com meu equipamento e/ou internet., Tive dificuldades em me conectar ao PLURALL para participar da aula., Tive dificuldades em me conectar ao hangouts para partiipar da aula.\n",
      "14 )  Tive dificuldades em achar o link da aula., Tive dificuldades em me conectar ao hangouts para partiipar da aula.\n",
      "15 )  Tive dificuldades com meu equipamento e/ou internet.\n",
      "16 )  Tive dificuldades com meu equipamento e/ou internet.\n",
      "17 )  Algumas vezes, não vi o horário das aulas direito., Tive dificuldades em me conectar ao PLURALL para participar da aula., Tive dificuldades em me conectar ao hangouts para partiipar da aula.\n",
      "18 )  Não tive problemas.\n",
      "19 )  Perdi a hora em algumas ocasiões., Algumas vezes, não vi o horário das aulas direito., Tive dificuldades em achar o link da aula., Tive dificuldades com meu equipamento e/ou internet., Tive dificuldades em me conectar ao PLURALL para participar da aula., Quando clicava na aula ao vivo, falava que dava erro\n",
      "20 )  Tive dificuldades em achar o link da aula., Tive dificuldades em me conectar ao PLURALL para participar da aula., Tive dificuldades em me conectar ao hangouts para partiipar da aula., O vídeo ficou travando., O áudio estava ruim.\n",
      "21 )  Perdi a hora em algumas ocasiões., Tive dificuldades em me conectar ao hangouts para partiipar da aula.\n",
      "22 )  Tive dificuldades em me conectar ao PLURALL para participar da aula.\n",
      "23 )  Perdi a hora em algumas ocasiões.\n",
      "24 )  Perdi a hora em algumas ocasiões.\n",
      "25 )  Tive dificuldades em achar o link da aula., Tive dificuldades com meu equipamento e/ou internet., Tive dificuldades em me conectar ao PLURALL para participar da aula., Tive dificuldades em me conectar ao hangouts para partiipar da aula.\n",
      "26 )  Perdi a hora em algumas ocasiões., uma vez deu problema com todos na sala, menos comigo ao entrar\n",
      "27 )  Perdi a hora em algumas ocasiões.\n",
      "28 )  Tive dificuldades em achar o link da aula., O vídeo ficou travando., O áudio estava ruim.\n",
      "29 )  Perdi a hora em algumas ocasiões., Tive dificuldades em achar o link da aula., Tive dificuldades em me conectar ao hangouts para partiipar da aula., O vídeo ficou travando., O áudio estava ruim.\n",
      "30 )  Não tive problemas.\n",
      "31 )  Tive dificuldades com meu equipamento e/ou internet.\n",
      "32 )  Tive dificuldades em me conectar ao PLURALL para participar da aula.\n",
      "33 )  Perdi a hora em algumas ocasiões., Eu tinha q sincronizar a política de serviço com o plurall\n",
      "34 )  Tive dificuldades com meu equipamento e/ou internet.\n",
      "35 )  Não tive problemas.\n",
      "36 )  Perdi a hora em algumas ocasiões., Algumas vezes, não vi o horário das aulas direito.\n",
      "37 )  Tive dificuldades com meu equipamento e/ou internet.\n",
      "38 )  Não tive problemas.\n",
      "39 )  O vídeo ficou travando., O áudio estava ruim.\n",
      "40 )  Tive dificuldades em me conectar ao hangouts para partiipar da aula.\n",
      "41 )  Tive dificuldades com meu equipamento e/ou internet., Tive dificuldades em me conectar ao PLURALL para participar da aula.\n",
      "42 )  Não tive problemas.\n",
      "43 )  Não tive problemas.\n",
      "44 )  Tive dificuldades em me conectar ao PLURALL para participar da aula.\n",
      "45 )  Não tive problemas.\n",
      "46 )  Perdi a hora em algumas ocasiões., Tive dificuldades com meu equipamento e/ou internet., Tive dificuldades em me conectar ao PLURALL para participar da aula.\n",
      "47 )  O vídeo ficou travando., O áudio estava ruim.\n",
      "48 )  Não tive problemas., O vídeo ficou travando.\n",
      "49 )  O vídeo ficou travando., O áudio estava ruim.\n",
      "50 )  Não tive problemas., Tive dificuldades com meu equipamento e/ou internet., O vídeo ficou travando.\n",
      "51 )  Não tive problemas.\n",
      "52 )  Não tive problemas.\n",
      "53 )  Perdi a hora em algumas ocasiões., Algumas vezes, não vi o horário das aulas direito., Tive dificuldades em achar o link da aula., Tive dificuldades com meu equipamento e/ou internet., Tive dificuldades em me conectar ao PLURALL para participar da aula., Tive dificuldades em me conectar ao hangouts para partiipar da aula., O vídeo ficou travando., O áudio estava ruim.\n",
      "54 )  Tive dificuldades em me conectar ao PLURALL para participar da aula.\n",
      "55 )  Tive dificuldades em me conectar ao PLURALL para participar da aula.\n",
      "56 )  Perdi a hora em algumas ocasiões., Tive dificuldades em achar o link da aula., Tive dificuldades em me conectar ao PLURALL para participar da aula., Tive dificuldades em me conectar ao hangouts para partiipar da aula.\n",
      "57 )  Não tive problemas., Perdi a hora em algumas ocasiões.\n",
      "58 )  Não tive problemas.\n",
      "59 )  Não tive problemas.\n",
      "60 )  Perdi a hora em algumas ocasiões., Tive dificuldades em achar o link da aula., Tive dificuldades com meu equipamento e/ou internet., Tive dificuldades em me conectar ao PLURALL para participar da aula.\n",
      "61 )  Não tive problemas., Perdi a hora em algumas ocasiões.\n",
      "62 )  Tive dificuldades em me conectar ao PLURALL para participar da aula.\n",
      "63 )  Tive dificuldades em me conectar ao PLURALL para participar da aula.\n",
      "64 )  Perdi a hora em algumas ocasiões., Algumas vezes, não vi o horário das aulas direito.\n",
      "65 )  Tive dificuldades em achar o link da aula., Tive dificuldades com meu equipamento e/ou internet., O vídeo ficou travando.\n",
      "66 )  Não tive problemas., Tive dificuldades em achar o link da aula.\n",
      "67 )  Tive dificuldades com meu equipamento e/ou internet., Tive dificuldades em me conectar ao hangouts para partiipar da aula., Os horários das aulas eram enviado no domingo após as 21hs. O que dificultava o planejamento para o dia seguinte, pois só vi o e-mail na segunda.\n",
      "68 )  Tive dificuldades em achar o link da aula., Tive dificuldades em me conectar ao PLURALL para participar da aula., O vídeo ficou travando.\n",
      "69 )  Tive dificuldades em me conectar ao PLURALL para participar da aula., Tive dificuldades em me conectar ao hangouts para partiipar da aula.\n",
      "70 )  Não tive problemas.\n",
      "71 )  Perdi a hora em algumas ocasiões.\n",
      "72 )  Tive dificuldades em me conectar ao PLURALL para participar da aula.\n",
      "73 )  Tive dificuldades em me conectar ao PLURALL para participar da aula., O vídeo ficou travando.\n",
      "74 )  Não tive problemas.\n",
      "75 )  Algumas vezes, não vi o horário das aulas direito.\n",
      "76 )  Tive dificuldades em me conectar ao hangouts para partiipar da aula.\n"
     ]
    }
   ],
   "source": [
    "problemas = df.loc[:,'Problemas de participação']\n",
    "for k, v in enumerate(problemas):\n",
    "    print(k+1, ') ', v)"
   ]
  },
  {
   "cell_type": "markdown",
   "metadata": {},
   "source": [
    "Vamos então separar essas respostas, armazenando-as em um dicionário como chaves e o número de vezes que apareceram como valores. Para tanto, percorreremos os itens da série `problemas`, transformando cada um em string e separando-a numa lista, utilizando o delimitador `, `."
   ]
  },
  {
   "cell_type": "code",
   "execution_count": 5,
   "metadata": {
    "scrolled": true
   },
   "outputs": [
    {
     "name": "stdout",
     "output_type": "stream",
     "text": [
      "Perdi a hora em algumas ocasiões. 23 respostas\n",
      "Tive dificuldades em achar o link da aula. 15 respostas\n",
      "Tive dificuldades com meu equipamento e/ou internet. 18 respostas\n",
      "Tive dificuldades em me conectar ao PLURALL para participar da aula. 25 respostas\n",
      "O vídeo ficou travando. 15 respostas\n",
      "O áudio estava ruim. 10 respostas\n",
      "Não tive problemas. 22 respostas\n",
      "Algumas vezes 7 respostas\n",
      "não vi o horário das aulas direito. 7 respostas\n",
      "Tive dificuldades em me conectar ao hangouts para partiipar da aula. 14 respostas\n",
      "Quando clicava na aula ao vivo 1 respostas\n",
      "falava que dava erro 1 respostas\n",
      "uma vez deu problema com todos na sala 1 respostas\n",
      "menos comigo ao entrar 1 respostas\n",
      "Eu tinha q sincronizar a política de serviço com o plurall 1 respostas\n",
      "Os horários das aulas eram enviado no domingo após as 21hs. O que dificultava o planejamento para o dia seguinte 1 respostas\n",
      "pois só vi o e-mail na segunda. 1 respostas\n",
      "\n",
      "Total de 17 respostas únicas.\n"
     ]
    }
   ],
   "source": [
    "separa_problemas_virgula = {}\n",
    "for problema in problemas:\n",
    "    lista = str(problema).split(', ')\n",
    "    for item in lista:\n",
    "        if item in separa_problemas_virgula:\n",
    "            separa_problemas_virgula[item] += 1\n",
    "        else:\n",
    "            separa_problemas_virgula[item] = 1\n",
    "    \n",
    "for k, v in separa_problemas_virgula.items():\n",
    "    print(k, v, 'respostas')\n",
    "    \n",
    "print('\\nTotal de', len(separa_problemas_virgula), 'respostas únicas.')"
   ]
  },
  {
   "cell_type": "markdown",
   "metadata": {},
   "source": [
    "Isto não nos serve. Por definição, o formulário Google separa valores numa pergunta de seleção múltipla utilizando **vírgulas** como delimitadores. Na formulação de alguns enunciados, havia vírgulas também, causando a separação de alguns itens. Basta ver, por exemplo, que a resposta \"*Algumas vezes, não vi o horário das aulas direito.*\" foi separada em duas partes.\n",
    "\n",
    "Poderíamos pensar em utilizar `., ` como delimitador, uma vez que, à primeira vista, todas as frases terminam com **ponto final**. Entretanto, isso também não é verdadeiro. Observemos que as frases \"*Quando clicava na aula ao vivo, falava que dava erro*\", \"*uma vez deu problema com todos na sala, menos comigo ao entrar*\" e \"*Eu tinha q sincronizar a política de serviço com o plurall*\" não possuem ponto final.\n",
    "\n",
    "Veja o que ocorre se utilizarmos `., ` como delimitador:"
   ]
  },
  {
   "cell_type": "code",
   "execution_count": 6,
   "metadata": {},
   "outputs": [
    {
     "name": "stdout",
     "output_type": "stream",
     "text": [
      "Perdi a hora em algumas ocasiões 14 respostas\n",
      "Tive dificuldades em achar o link da aula 13 respostas\n",
      "Tive dificuldades com meu equipamento e/ou internet 13 respostas\n",
      "Tive dificuldades em me conectar ao PLURALL para participar da aula 13 respostas\n",
      "O vídeo ficou travando 10 respostas\n",
      "O áudio estava ruim. 10 respostas\n",
      "Não tive problemas. 17 respostas\n",
      "Perdi a hora em algumas ocasiões. 9 respostas\n",
      "Algumas vezes, não vi o horário das aulas direito 4 respostas\n",
      "Tive dificuldades em me conectar ao hangouts para partiipar da aula 5 respostas\n",
      "Tive dificuldades em achar o link da aula. 2 respostas\n",
      "Tive dificuldades em me conectar ao PLURALL para participar da aula. 12 respostas\n",
      "Tive dificuldades em me conectar ao hangouts para partiipar da aula. 9 respostas\n",
      "Tive dificuldades com meu equipamento e/ou internet. 5 respostas\n",
      "Quando clicava na aula ao vivo, falava que dava erro 1 respostas\n",
      "uma vez deu problema com todos na sala, menos comigo ao entrar 1 respostas\n",
      "Eu tinha q sincronizar a política de serviço com o plurall 1 respostas\n",
      "Algumas vezes, não vi o horário das aulas direito. 3 respostas\n",
      "Não tive problemas 5 respostas\n",
      "O vídeo ficou travando. 5 respostas\n",
      "Os horários das aulas eram enviado no domingo após as 21hs. O que dificultava o planejamento para o dia seguinte, pois só vi o e-mail na segunda. 1 respostas\n",
      "\n",
      "Total de 21 respostas únicas.\n"
     ]
    }
   ],
   "source": [
    "separa_problemas_pontovirgula = {}\n",
    "for problema in problemas:\n",
    "    lista = str(problema).split('., ')\n",
    "    for item in lista:\n",
    "        if item in separa_problemas_pontovirgula:\n",
    "            separa_problemas_pontovirgula[item] += 1\n",
    "        else:\n",
    "            separa_problemas_pontovirgula[item] = 1\n",
    "    \n",
    "for k, v in separa_problemas_pontovirgula.items():\n",
    "    print(k, v, 'respostas')\n",
    "    \n",
    "print('\\nTotal de', len(separa_problemas_pontovirgula), 'respostas únicas.')"
   ]
  },
  {
   "cell_type": "markdown",
   "metadata": {},
   "source": [
    "Pulamos de 17 para 21 respostas únicas. Alguns itens estão duplicados, ora com ponto final, ora sem ponto final. Precisamos, então, fazer uma pequena alteração no código anterior, pedindo para localizar a ocorrência de ponto final e removê-lo da sentença, antes de verificar se aquela resposta consta como chave no dicionário `'cont_problemas'`:"
   ]
  },
  {
   "cell_type": "code",
   "execution_count": 7,
   "metadata": {},
   "outputs": [
    {
     "name": "stdout",
     "output_type": "stream",
     "text": [
      "Perdi a hora em algumas ocasiões 23 respostas\n",
      "Tive dificuldades em achar o link da aula 15 respostas\n",
      "Tive dificuldades com meu equipamento e/ou internet 18 respostas\n",
      "Tive dificuldades em me conectar ao PLURALL para participar da aula 25 respostas\n",
      "O vídeo ficou travando 15 respostas\n",
      "O áudio estava ruim 10 respostas\n",
      "Não tive problemas 22 respostas\n",
      "Algumas vezes, não vi o horário das aulas direito 7 respostas\n",
      "Tive dificuldades em me conectar ao hangouts para partiipar da aula 14 respostas\n",
      "Quando clicava na aula ao vivo, falava que dava erro 1 respostas\n",
      "uma vez deu problema com todos na sala, menos comigo ao entrar 1 respostas\n",
      "Eu tinha q sincronizar a política de serviço com o plurall 1 respostas\n",
      "Os horários das aulas eram enviado no domingo após as 21hs O que dificultava o planejamento para o dia seguinte, pois só vi o e-mail na segunda 1 respostas\n",
      "\n",
      "Total de 13 respostas únicas.\n"
     ]
    }
   ],
   "source": [
    "cont_problemas = {}\n",
    "for problema in problemas:\n",
    "    lista = str(problema).split('., ')\n",
    "    for item in lista:\n",
    "        item = item.replace('.','')\n",
    "        if item in cont_problemas:\n",
    "            cont_problemas[item] += 1\n",
    "        else:\n",
    "            cont_problemas[item] = 1\n",
    "    \n",
    "for k, v in cont_problemas.items():\n",
    "    print(k, v, 'respostas')\n",
    "    \n",
    "print('\\nTotal de', len(cont_problemas), 'respostas únicas.')"
   ]
  },
  {
   "cell_type": "markdown",
   "metadata": {},
   "source": [
    "Por uma questão estética, alteraremos apenas alguns itens. Há frases que começam com letra minúscula, uma palavra grafada incorretamente (*partiipar*) e um ponto final que deveria haver na última resposta da lista foi indevidamente retirado, pois este item continha duas frases. Aproveitaremos para organizar o dicionário em ordem decrescente, armazenando os dados numa nova lista `problemas_final`."
   ]
  },
  {
   "cell_type": "code",
   "execution_count": 8,
   "metadata": {},
   "outputs": [
    {
     "name": "stdout",
     "output_type": "stream",
     "text": [
      "{'Tive dificuldades em me conectar ao PLURALL para participar da aula': 25, 'Perdi a hora em algumas ocasiões': 23, 'Não tive problemas': 22, 'Tive dificuldades com meu equipamento e/ou internet': 18, 'Tive dificuldades em achar o link da aula': 15, 'O vídeo ficou travando': 15, 'Tive dificuldades em me conectar ao hangouts para participar da aula': 14, 'O áudio estava ruim': 10, 'Algumas vezes, não vi o horário das aulas direito': 7, 'Quando clicava na aula ao vivo, falava que dava erro': 1, 'Uma vez deu problema com todos na sala, menos comigo ao entrar': 1, 'Eu tinha q sincronizar a política de serviço com o plurall': 1, 'Os horários das aulas eram enviado no domingo após as 21hs, o que dificultava o planejamento para o dia seguinte, pois só vi o e-mail na segunda': 1}\n"
     ]
    }
   ],
   "source": [
    "from operator import itemgetter\n",
    "lista_problemas = sorted(cont_problemas.items(), key=itemgetter(1), reverse=True)\n",
    "problemas_final = {}\n",
    "for item in lista_problemas:\n",
    "    resposta = item[0]\n",
    "    quantidade = item[1]\n",
    "    \n",
    "    if resposta[0].islower(): # verifica se começa com letra minúscula\n",
    "        resposta = resposta.capitalize()\n",
    "    resposta = resposta.replace('partiipar', 'participar') # corrige a palavra participar\n",
    "    resposta = resposta.replace('21hs O que', '21hs, o que') # corrige a ausência de separação entre frases\n",
    "    \n",
    "    #problemas_final.append((resposta, quantidade))\n",
    "    problemas_final[resposta] = quantidade\n",
    "    \n",
    "print(problemas_final)"
   ]
  },
  {
   "cell_type": "markdown",
   "metadata": {},
   "source": [
    "Podemos, então, gerar um gráfico de barras para essa categoria. Importaremos as bibliotecas **matplotlib** e **textwrap**, definiremos o primeiro elemento de cada tupla como categoria e o segundo elemento como valor."
   ]
  },
  {
   "cell_type": "code",
   "execution_count": 9,
   "metadata": {},
   "outputs": [
    {
     "data": {
      "text/plain": [
       "<Figure size 640x480 with 1 Axes>"
      ]
     },
     "metadata": {},
     "output_type": "display_data"
    }
   ],
   "source": [
    "import matplotlib.pyplot as plt\n",
    "import textwrap as tw\n",
    "\n",
    "resposta = []\n",
    "quantidade = []\n",
    "for k, v in problemas_final.items():\n",
    "    longline = tw.fill(k, 30)\n",
    "    resposta.append(longline)\n",
    "    quantidade.append(v)\n",
    "    \n",
    "problemas_grafico = {'resposta' : resposta, 'quantidade': quantidade}\n",
    "pf = pd.DataFrame.from_dict(problemas_grafico)\n",
    "\n",
    "plt.barh(pf.resposta, pf.quantidade)\n",
    "plt.title('Considerando as últimas 2 semanas, você teve problemas para participar das aulas ao vivo?')\n",
    "plt.gca().invert_yaxis()\n",
    "plt.show()"
   ]
  },
  {
   "cell_type": "markdown",
   "metadata": {},
   "source": [
    "O gráfico acima ainda está uma bosta. Quando eu aprender a configurar direito, volto aqui. Estou há mais de duas horas tentando resolver esse \"overlap\" dos textos, sem sucesso. Isso porque levei mais de 1 hora para descobrir como quebrar longas linhas -- utilizando outro módulo, textwrapper, uma vez que o matplotlib em si não dá conta deste recado."
   ]
  },
  {
   "cell_type": "markdown",
   "metadata": {},
   "source": [
    "### 2.2. Categorias \"disciplinas sobrecarregado\"\n",
    "\n",
    "Também foi questionado aos estudantes \"*Em quais disciplinas a quantidade de atividades o deixou sobrecarregado?*\", pergunta para a qual poder-se-ia selecionar mais de uma resposta dentre as opções apresentadas."
   ]
  },
  {
   "cell_type": "code",
   "execution_count": 13,
   "metadata": {},
   "outputs": [
    {
     "data": {
      "text/plain": [
       "count          41\n",
       "unique         32\n",
       "top       Redação\n",
       "freq            4\n",
       "Name: Disciplinas sobrecarregado, dtype: object"
      ]
     },
     "execution_count": 13,
     "metadata": {},
     "output_type": "execute_result"
    }
   ],
   "source": [
    "sobrecarga = df['Disciplinas sobrecarregado']\n",
    "sobrecarga.describe()"
   ]
  },
  {
   "cell_type": "markdown",
   "metadata": {},
   "source": [
    "Para uma análise mais aprofundada das respostas obtidas, percorreremos cada item, separando respostas por vírgulas, armazenando-as então num dicionário com suas respectivas frequências absolutas:"
   ]
  },
  {
   "cell_type": "code",
   "execution_count": 38,
   "metadata": {},
   "outputs": [
    {
     "name": "stdout",
     "output_type": "stream",
     "text": [
      "{'nan': 35, 'DG/Geometria': 19, ' Física': 13, ' Inglês': 12, ' Redação': 22, ' Filosofia': 1, ' Geografia': 5, ' História': 5, ' Português': 15, ' Química': 1, ' Sociologia': 2, 'Física': 2, 'Matemática': 3, 'Inglês': 5, ' Educação Física': 4, ' Matemática': 8, 'Espanhol': 1, 'Geografia': 2, ' LEM - Líder em Mim': 1, 'História': 1, 'Redação': 4, 'Educação Física': 3, ' Espanhol': 2, 'Filosofia': 1}\n"
     ]
    }
   ],
   "source": [
    "sobrecarga_lista = df.loc[:,'Disciplinas sobrecarregado']\n",
    "sobrecarga_cont = {}\n",
    "\n",
    "for resposta in sobrecarga_lista:\n",
    "    resposta = str(resposta).split(',')\n",
    "    \n",
    "    for item in resposta:\n",
    "        if item in sobrecarga_cont:\n",
    "            sobrecarga_cont[item] += 1\n",
    "        else:\n",
    "            sobrecarga_cont[item] = 1\n",
    "            \n",
    "print(sobrecarga_cont)"
   ]
  },
  {
   "cell_type": "markdown",
   "metadata": {},
   "source": [
    "Uma análise superficial dos resultados mostra-nos 35 ocorrências para `'nan'`. Observando outros registros da tabela, concluímos que isto representa estudantes que não selecionaram nenhuma das opções apresentadas, isto é, não se sentiram sobrecarregados em nenhuma das disciplinas escolares. Para uma melhor apresentação dos dados, faremos uma alteração deste item na lista. Aproveitaremos para organizar o dicionário em ordem decrescente:"
   ]
  },
  {
   "cell_type": "code",
   "execution_count": 39,
   "metadata": {
    "scrolled": true
   },
   "outputs": [
    {
     "name": "stdout",
     "output_type": "stream",
     "text": [
      "[('Não me senti sobrecarregado(a)', 35), (' Redação', 22), ('DG/Geometria', 19), (' Português', 15), (' Física', 13), (' Inglês', 12), (' Matemática', 8), (' Geografia', 5), (' História', 5), ('Inglês', 5), (' Educação Física', 4), ('Redação', 4), ('Matemática', 3), ('Educação Física', 3), (' Sociologia', 2), ('Física', 2), ('Geografia', 2), (' Espanhol', 2), (' Filosofia', 1), (' Química', 1), ('Espanhol', 1), (' LEM - Líder em Mim', 1), ('História', 1), ('Filosofia', 1)]\n"
     ]
    }
   ],
   "source": [
    "sobrecarga_cont['Não me senti sobrecarregado(a)'] = sobrecarga_cont.pop('nan')\n",
    "\n",
    "sobrecarga = sorted(sobrecarga_cont.items(), key=itemgetter(1), reverse=True)\n",
    "print(sobrecarga)"
   ]
  },
  {
   "cell_type": "markdown",
   "metadata": {},
   "source": [
    "Para essa categoria, também é recomendável um gráfico de barras horizontais:"
   ]
  },
  {
   "cell_type": "code",
   "execution_count": 36,
   "metadata": {},
   "outputs": [
    {
     "data": {
      "image/png": "[encoded data removed]",
      "text/plain": [
       "<Figure size 432x288 with 1 Axes>"
      ]
     },
     "metadata": {
      "needs_background": "light"
     },
     "output_type": "display_data"
    }
   ],
   "source": [
    "sobrecarga_labels = []\n",
    "sobrecarga_values = []\n",
    "for item in sobrecarga:\n",
    "    sobrecarga_labels.append(item[0])\n",
    "    sobrecarga_values.append(item[1])\n",
    "    \n",
    "plt.barh(sobrecarga_labels, sobrecarga_values)\n",
    "plt.title('Em quais disciplinas a quantidade de atividades o deixou sobrecarregado?')\n",
    "plt.xlabel('Frequência das respostas')\n",
    "plt.show()"
   ]
  }
 ],
 "metadata": {
  "kernelspec": {
   "display_name": "Python 3",
   "language": "python",
   "name": "python3"
  },
  "language_info": {
   "codemirror_mode": {
    "name": "ipython",
    "version": 3
   },
   "file_extension": ".py",
   "mimetype": "text/x-python",
   "name": "python",
   "nbconvert_exporter": "python",
   "pygments_lexer": "ipython3",
   "version": "3.7.4"
  }
 },
 "nbformat": 4,
 "nbformat_minor": 2
}
